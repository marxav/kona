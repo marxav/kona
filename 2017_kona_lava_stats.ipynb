{
 "cells": [
  {
   "cell_type": "code",
   "execution_count": 1,
   "metadata": {
    "collapsed": true
   },
   "outputs": [],
   "source": [
    "import pandas as pd\n",
    "import matplotlib.pyplot as plt\n",
    "%matplotlib inline"
   ]
  },
  {
   "cell_type": "code",
   "execution_count": 2,
   "metadata": {
    "collapsed": true
   },
   "outputs": [],
   "source": [
    "years = [2016, 2017]"
   ]
  },
  {
   "cell_type": "code",
   "execution_count": 3,
   "metadata": {
    "collapsed": true
   },
   "outputs": [],
   "source": [
    "\"\"\"This function modifies a data frame \n",
    "by adding a new 'Inconnu' column countinng the number of uncounted participants\n",
    "by transforming all column into a percentage of all participants number\n",
    "\"\"\"\n",
    "def create_dataframe(lava_data, participants):\n",
    "    data = pd.DataFrame(lava_data, index=years)\n",
    "    data = data.fillna(value=0)\n",
    "    data['Counted'] = data.sum(axis=1)\n",
    "    df = pd.concat([data, participants], axis=1)\n",
    "    df['Inconnu'] = df['Participants'] - df['Counted']\n",
    "    df = df.drop(['Counted', 'Participants'], axis=1)\n",
    "    cols = df.columns\n",
    "    df[cols] = df[cols].div(df[cols].sum(axis=1), axis=0).multiply(100).round()\n",
    "    return df\n",
    "    "
   ]
  },
  {
   "cell_type": "markdown",
   "metadata": {},
   "source": [
    "Inputs from http://ironman.com"
   ]
  },
  {
   "cell_type": "code",
   "execution_count": 4,
   "metadata": {
    "collapsed": true
   },
   "outputs": [],
   "source": [
    "# http://eu.ironman.com/triathlon/coverage/athlete-tracker.aspx?race=worldchampionship&y=201\n",
    "participants = pd.DataFrame({\"Participants\":2316, \"Participants\":2455}, index=years)\n"
   ]
  },
  {
   "cell_type": "markdown",
   "metadata": {},
   "source": [
    "Inputs from http://lavamagazine.com/"
   ]
  },
  {
   "cell_type": "markdown",
   "metadata": {},
   "source": [
    "## Marque des Vélos"
   ]
  },
  {
   "cell_type": "code",
   "execution_count": 5,
   "metadata": {},
   "outputs": [],
   "source": [
    "# from http://lavamagazine.com/2016bikecount and http://lavamagazine.com/2017-ironman-bike-count\n",
    "lava_bikes = [\n",
    "    {'Cervelo':577, 'Trek':261,'Specialized':209,'Felt':139,'Argon 18':106, \n",
    "     'Scott':106, 'BMC':100,'Quintana Roo':89,'Cannondale':80,'Giant':70 },\n",
    "            \n",
    "    {'Cervelo':570, 'Trek':261,'Specialized':216,'Felt':177,'Argon 18':146, \n",
    "    'Canyon':102, 'BMC':101,'Scott':100,'Giant':88,'Quintana Roo':84 }]"
   ]
  },
  {
   "cell_type": "code",
   "execution_count": 6,
   "metadata": {},
   "outputs": [
    {
     "data": {
      "text/plain": [
       "<matplotlib.text.Text at 0x9a46b00>"
      ]
     },
     "execution_count": 6,
     "metadata": {},
     "output_type": "execute_result"
    },
    {
     "data": {
      "image/png": "[encoded data removed]",
      "text/plain": [
       "<matplotlib.figure.Figure at 0x99bd518>"
      ]
     },
     "metadata": {},
     "output_type": "display_data"
    }
   ],
   "source": [
    "df = create_dataframe(lava_bikes, participants)\n",
    "df.head()\n",
    "\n",
    "top_10 = df.loc[2017].sort_values(ascending=False).head(10).index\n",
    "df = df[top_10]\n",
    "\n",
    "ax = df.plot.bar(title='Vélos',figsize=(8, 4))\n",
    "ax.set_xlabel('Année')\n",
    "ax.set_ylabel('% des Athlètes')"
   ]
  },
  {
   "cell_type": "markdown",
   "metadata": {},
   "source": [
    "## Marque des GPS"
   ]
  },
  {
   "cell_type": "code",
   "execution_count": 7,
   "metadata": {
    "collapsed": true
   },
   "outputs": [],
   "source": [
    "# From Lavamagaz\n",
    "lava_gps = [{\"Garmin\":1673, \"Polar\":85,\"Suunto\":47,\"TomTom\":24,\"Timex\":16,\"Fitbit\":1},\n",
    "            {\"Garmin\":1869, \"Polar\":91,\"Suunto\":20,\"TomTom\":9,\"Smart Watches\":5}]"
   ]
  },
  {
   "cell_type": "code",
   "execution_count": 8,
   "metadata": {},
   "outputs": [
    {
     "data": {
      "text/plain": [
       "<matplotlib.text.Text at 0x9ee3f98>"
      ]
     },
     "execution_count": 8,
     "metadata": {},
     "output_type": "execute_result"
    },
    {
     "data": {
      "image/png": "[encoded data removed]",
      "text/plain": [
       "<matplotlib.figure.Figure at 0x9e51d30>"
      ]
     },
     "metadata": {},
     "output_type": "display_data"
    }
   ],
   "source": [
    "df = create_dataframe(lava_gps, participants)\n",
    "\n",
    "top = df.loc[2017].sort_values(ascending=False).index\n",
    "df = df[top]\n",
    "\n",
    "ax = df.plot.bar(title='GPS',figsize=(8, 4))\n",
    "ax.set_xlabel('Année')\n",
    "ax.set_ylabel('% des Athlètes')"
   ]
  },
  {
   "cell_type": "markdown",
   "metadata": {},
   "source": [
    "## Marque des chaussures"
   ]
  },
  {
   "cell_type": "code",
   "execution_count": 9,
   "metadata": {
    "collapsed": true
   },
   "outputs": [],
   "source": [
    "lava_shoes = [{'Asics':17.0, 'Hoka':16, 'Saucony':13, 'Brooks':8, 'New Balance':8, 'Newton':8,\n",
    "              'Adidas':7, 'Nike':6, 'Mizuno':5, 'On':4, 'Zoot':3, 'Skechers':2, 'Altra':2,\n",
    "              'Others':1},\n",
    "              {'Hoka':18.1, 'Saucony':12.6, 'Asics': 12.4, 'Brooks':8.5, 'New Balance':8.0, 'Adidas':7.3, \n",
    "               'On':6.9, 'Nike':5.7, 'Newton':5.4, 'Mizuno':4.4, 'Skechers':3.7, 'Altra': 2.0, \n",
    "               'Salming':1.3, 'Zoot':1.3, 'Under Armor':0.004, 'Puma':0.002, 'Scott':.002, 'Pearl Izumi':0.002, \n",
    "               'Inov-8':0.002, 'Vibram':0.0005, 'Kswiss':0.0005, 'Merrel':0.0005, 'Other':0.002}]"
   ]
  },
  {
   "cell_type": "code",
   "execution_count": 10,
   "metadata": {
    "collapsed": true
   },
   "outputs": [],
   "source": [
    "lava_shoes = [{'Asics':17.0, 'Hoka':16, 'Saucony':13, 'Brooks':8, 'New Balance':8, 'Newton':8,\n",
    "              'Adidas':7, 'Nike':6, 'Mizuno':5, 'On':4, 'Zoot':3, 'Skechers':2, 'Altra':2,\n",
    "              'Others':1},\n",
    "              {'Hoka':18.1, 'Saucony':12.6, 'Asics': 12.4, 'Brooks':8.5, 'New Balance':8.0, 'Adidas':7.3, \n",
    "               'On':6.9, 'Nike':5.7, 'Newton':5.4, 'Mizuno':4.4, 'Skechers':3.7, 'Altra': 2.0, \n",
    "               'Salming':1.3, 'Zoot':1.3, 'Others':1}]"
   ]
  },
  {
   "cell_type": "code",
   "execution_count": 11,
   "metadata": {},
   "outputs": [
    {
     "data": {
      "text/plain": [
       "<matplotlib.text.Text at 0xa0012b0>"
      ]
     },
     "execution_count": 11,
     "metadata": {},
     "output_type": "execute_result"
    },
    {
     "data": {
      "image/png": "[encoded data removed]",
      "text/plain": [
       "<matplotlib.figure.Figure at 0x99a7c18>"
      ]
     },
     "metadata": {},
     "output_type": "display_data"
    }
   ],
   "source": [
    "df = pd.DataFrame(lava_shoes, index=years)\n",
    "df = df.fillna(value=0)\n",
    "df.head()\n",
    "\n",
    "# discard any brand which is not is the top-10 brands\n",
    "# otherwise, chart will be diffcult to read\n",
    "top_10 = df.loc[2017].sort_values(ascending=False).head(10).index\n",
    "df = df[top_10]\n",
    "\n",
    "ax = df.plot.bar(title='Shoes', figsize=(8, 4))\n",
    "ax.set_xlabel('Année')\n",
    "ax.set_ylabel('% des Athlètes')"
   ]
  }
 ],
 "metadata": {
  "kernelspec": {
   "display_name": "Python 3",
   "language": "python",
   "name": "python3"
  },
  "language_info": {
   "codemirror_mode": {
    "name": "ipython",
    "version": 3
   },
   "file_extension": ".py",
   "mimetype": "text/x-python",
   "name": "python",
   "nbconvert_exporter": "python",
   "pygments_lexer": "ipython3",
   "version": "3.6.1"
  }
 },
 "nbformat": 4,
 "nbformat_minor": 2
}

