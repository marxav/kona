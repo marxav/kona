{
 "cells": [
  {
   "cell_type": "code",
   "execution_count": 1,
   "metadata": {
    "collapsed": true
   },
   "outputs": [],
   "source": [
    "import pandas as pd\n",
    "%matplotlib inline"
   ]
  },
  {
   "cell_type": "code",
   "execution_count": 2,
   "metadata": {
    "collapsed": true
   },
   "outputs": [],
   "source": [
    "file = \"2017_kona_pronostics.csv\""
   ]
  },
  {
   "cell_type": "code",
   "execution_count": 3,
   "metadata": {},
   "outputs": [],
   "source": [
    "df = pd.read_csv(file, delimiter=';', encoding = \"ISO-8859-1\")"
   ]
  },
  {
   "cell_type": "code",
   "execution_count": 4,
   "metadata": {},
   "outputs": [
    {
     "data": {
      "text/html": [
       "<div>\n",
       "<style>\n",
       "    .dataframe thead tr:only-child th {\n",
       "        text-align: right;\n",
       "    }\n",
       "\n",
       "    .dataframe thead th {\n",
       "        text-align: left;\n",
       "    }\n",
       "\n",
       "    .dataframe tbody tr th {\n",
       "        vertical-align: top;\n",
       "    }\n",
       "</style>\n",
       "<table border=\"1\" class=\"dataframe\">\n",
       "  <thead>\n",
       "    <tr style=\"text-align: right;\">\n",
       "      <th></th>\n",
       "      <th>Player</th>\n",
       "      <th>Athlete1</th>\n",
       "      <th>Athlete2</th>\n",
       "      <th>Athlete3</th>\n",
       "      <th>Athlete4</th>\n",
       "      <th>Athlete5</th>\n",
       "      <th>Athlete6</th>\n",
       "      <th>Datetime</th>\n",
       "    </tr>\n",
       "  </thead>\n",
       "  <tbody>\n",
       "    <tr>\n",
       "      <th>180</th>\n",
       "      <td>Alex</td>\n",
       "      <td>FRO</td>\n",
       "      <td>SAN</td>\n",
       "      <td>STE</td>\n",
       "      <td>DON</td>\n",
       "      <td>KIE</td>\n",
       "      <td>AER</td>\n",
       "      <td>05/10/2017 19:47</td>\n",
       "    </tr>\n",
       "  </tbody>\n",
       "</table>\n",
       "</div>"
      ],
      "text/plain": [
       "    Player Athlete1 Athlete2 Athlete3 Athlete4 Athlete5 Athlete6  \\\n",
       "180   Alex      FRO      SAN      STE      DON      KIE      AER   \n",
       "\n",
       "             Datetime  \n",
       "180  05/10/2017 19:47  "
      ]
     },
     "execution_count": 4,
     "metadata": {},
     "output_type": "execute_result"
    }
   ],
   "source": [
    "# check list line of input file\n",
    "df.tail(1)"
   ]
  },
  {
   "cell_type": "code",
   "execution_count": 5,
   "metadata": {},
   "outputs": [
    {
     "data": {
      "text/plain": [
       "FRO    0.679558\n",
       "SAN    0.132597\n",
       "FVL    0.082873\n",
       "KIE    0.055249\n",
       "LAN    0.022099\n",
       "HOF    0.011050\n",
       "DON    0.005525\n",
       "CUN    0.005525\n",
       "AER    0.005525\n",
       "Name: Athlete1, dtype: float64"
      ]
     },
     "execution_count": 5,
     "metadata": {},
     "output_type": "execute_result"
    }
   ],
   "source": [
    "# pronostiques quant au vainqueur\n",
    "df.Athlete1.value_counts(normalize=True).head(10)"
   ]
  },
  {
   "cell_type": "code",
   "execution_count": 6,
   "metadata": {},
   "outputs": [
    {
     "data": {
      "text/plain": [
       "<matplotlib.axes._subplots.AxesSubplot at 0x965a978>"
      ]
     },
     "execution_count": 6,
     "metadata": {},
     "output_type": "execute_result"
    },
    {
     "data": {
      "image/png": "[encoded data removed]",
      "text/plain": [
       "<matplotlib.figure.Figure at 0x961ba58>"
      ]
     },
     "metadata": {},
     "output_type": "display_data"
    }
   ],
   "source": [
    "df.Athlete1.value_counts(normalize=True).head(10).plot(kind='pie')"
   ]
  },
  {
   "cell_type": "code",
   "execution_count": 7,
   "metadata": {},
   "outputs": [
    {
     "data": {
      "text/plain": [
       "SAN    0.287293\n",
       "KIE    0.220994\n",
       "FRO    0.187845\n",
       "FVL    0.143646\n",
       "HOF    0.038674\n",
       "DON    0.027624\n",
       "LAN    0.022099\n",
       "CUN    0.016575\n",
       "MCM    0.016575\n",
       "ODO    0.011050\n",
       "Name: Athlete2, dtype: float64"
      ]
     },
     "execution_count": 7,
     "metadata": {},
     "output_type": "execute_result"
    }
   ],
   "source": [
    "df.Athlete2.value_counts(normalize=True).head(10)"
   ]
  },
  {
   "cell_type": "code",
   "execution_count": 8,
   "metadata": {},
   "outputs": [
    {
     "data": {
      "text/plain": [
       "KIE    0.292818\n",
       "SAN    0.165746\n",
       "FVL    0.160221\n",
       "VIE    0.077348\n",
       "HOF    0.060773\n",
       "FRO    0.060773\n",
       "DON    0.060773\n",
       "LAN    0.027624\n",
       "ODO    0.016575\n",
       "AER    0.016575\n",
       "Name: Athlete3, dtype: float64"
      ]
     },
     "execution_count": 8,
     "metadata": {},
     "output_type": "execute_result"
    }
   ],
   "source": [
    "df.Athlete3.value_counts(normalize=True).head(10)"
   ]
  },
  {
   "cell_type": "code",
   "execution_count": 9,
   "metadata": {},
   "outputs": [
    {
     "data": {
      "text/plain": [
       "KIE    0.209945\n",
       "FVL    0.127072\n",
       "VIE    0.127072\n",
       "SAN    0.104972\n",
       "AER    0.099448\n",
       "HOF    0.060773\n",
       "POT    0.044199\n",
       "DON    0.033149\n",
       "LAN    0.027624\n",
       "STE    0.022099\n",
       "Name: Athlete4, dtype: float64"
      ]
     },
     "execution_count": 9,
     "metadata": {},
     "output_type": "execute_result"
    }
   ],
   "source": [
    "df.Athlete4.value_counts(normalize=True).head(10)"
   ]
  },
  {
   "cell_type": "code",
   "execution_count": 10,
   "metadata": {},
   "outputs": [
    {
     "data": {
      "text/plain": [
       "VIE     0.121547\n",
       "FVL     0.099448\n",
       "KIE     0.099448\n",
       "SAN     0.088398\n",
       "DON     0.088398\n",
       "AER     0.082873\n",
       "HOF     0.077348\n",
       "LAN     0.055249\n",
       "CHEV    0.033149\n",
       "STE     0.027624\n",
       "Name: Athlete5, dtype: float64"
      ]
     },
     "execution_count": 10,
     "metadata": {},
     "output_type": "execute_result"
    }
   ],
   "source": [
    "df.Athlete5.value_counts(normalize=True).head(10)"
   ]
  },
  {
   "cell_type": "code",
   "execution_count": 11,
   "metadata": {},
   "outputs": [
    {
     "data": {
      "text/plain": [
       "VIE     0.132597\n",
       "DON     0.110497\n",
       "FVL     0.088398\n",
       "HOF     0.071823\n",
       "CHEV    0.071823\n",
       "AER     0.049724\n",
       "ODO     0.044199\n",
       "KIE     0.038674\n",
       "POT     0.038674\n",
       "SAN     0.038674\n",
       "Name: Athlete6, dtype: float64"
      ]
     },
     "execution_count": 11,
     "metadata": {},
     "output_type": "execute_result"
    }
   ],
   "source": [
    "df.Athlete6.value_counts(normalize=True).head(10)"
   ]
  },
  {
   "cell_type": "code",
   "execution_count": null,
   "metadata": {
    "collapsed": true
   },
   "outputs": [],
   "source": []
  },
  {
   "cell_type": "code",
   "execution_count": 12,
   "metadata": {
    "collapsed": true
   },
   "outputs": [],
   "source": [
    "#10 pts par bonne position.\n",
    "#6 pts pour 1 athlète qui termine à 1 place de ton pronostic.\n",
    "#4 pts pour 1 athlète qui termine à 2 places de ton pronostic.\n",
    "#2 pts pour 1 athlète qui termine à 3 places de ton pronostic.\n",
    "#1 pts pour 1 athlète qui termine à 4 places de ton pronostic.\n",
    "def calculate_points(player):\n",
    "    \n",
    "    points_1 = 0\n",
    "    points_2 = 0\n",
    "    points_3 = 0\n",
    "    points_4 = 0\n",
    "    points_5 = 0\n",
    "    points_6 = 0\n",
    "    \n",
    "    # if athlete estimated as 1st arrived 1st\n",
    "    if player.Athlete1 == results[1]:\n",
    "        points_1 = 10 \n",
    "    # if athlete estimated as 1st arrived 2nd\n",
    "    elif player.Athlete1 == results[2]:\n",
    "        points_1 = 6 \n",
    "    # if athlete estimated as 1st arrived 3rd\n",
    "    elif player.Athlete1 == results[3]:\n",
    "        points_1 = 4 \n",
    "    # if athlete estimated as 1st arrived 4th\n",
    "    elif player.Athlete1 == results[4]:\n",
    "        points_1 = 2 \n",
    "    # if athlete estimated as 1st arrived 5th\n",
    "    elif player.Athlete1 == results[5]:\n",
    "        points_1 = 1 \n",
    "        \n",
    "    # if athlete estimated as 2nd arrived 1st\n",
    "    if player.Athlete2 == results[1]:\n",
    "        points_2 = 6 \n",
    "    # if athlete estimated as 2nd arrived 2nd\n",
    "    elif player.Athlete2 == results[2]:\n",
    "        points_2 = 10 \n",
    "    # ...\n",
    "    elif player.Athlete2 == results[3]:\n",
    "        points_2 = 6 \n",
    "    elif player.Athlete2 == results[4]:\n",
    "        points_2 = 4 \n",
    "    elif player.Athlete2 == results[5]:\n",
    "        points_2 = 2 \n",
    "    elif player.Athlete2 == results[6]:\n",
    "        points_2 = 1 \n",
    " \n",
    "    if player.Athlete3 == results[1]:\n",
    "        points_3 = 4 \n",
    "    elif player.Athlete3 == results[2]:\n",
    "        points_3 = 6 \n",
    "    elif player.Athlete3 == results[3]:\n",
    "        points_3 = 10 \n",
    "    elif player.Athlete3 == results[4]:\n",
    "        points_3 = 6\n",
    "    elif player.Athlete3 == results[5]:\n",
    "        points_3 = 4 \n",
    "    elif player.Athlete3 == results[6]:\n",
    "        points_3 = 2 \n",
    "    elif player.Athlete3 == results[7]:\n",
    "        points_3 = 1 \n",
    "    \n",
    "    if player.Athlete4 == results[1]:\n",
    "        points_4 = 2 \n",
    "    elif player.Athlete4 == results[2]:\n",
    "        points_4 = 4 \n",
    "    elif player.Athlete4 == results[3]:\n",
    "        points_4 = 6 \n",
    "    elif player.Athlete4 == results[4]:\n",
    "        points_4 = 10 \n",
    "    elif player.Athlete4 == results[5]:\n",
    "        points_4 = 6 \n",
    "    elif player.Athlete4 == results[6]:\n",
    "        points_4 = 4 \n",
    "    elif player.Athlete4 == results[7]:\n",
    "        points_4 = 2 \n",
    "    elif player.Athlete4 == results[8]:\n",
    "        points_4 = 1 \n",
    "        \n",
    "    if player.Athlete5 == results[1]:\n",
    "        points_5 = 1 \n",
    "    elif player.Athlete5 == results[2]:\n",
    "        points_5 = 2 \n",
    "    elif player.Athlete5 == results[3]:\n",
    "        points_5 = 4 \n",
    "    elif player.Athlete5 == results[4]:\n",
    "        points_5 = 6\n",
    "    elif player.Athlete5 == results[5]:\n",
    "        points_5 = 10\n",
    "    elif player.Athlete5 == results[6]:\n",
    "        points_5 = 6 \n",
    "    elif player.Athlete5 == results[7]:\n",
    "        points_5 = 4 \n",
    "    elif player.Athlete5 == results[8]:\n",
    "        points_5 = 2 \n",
    "    elif player.Athlete5 == results[9]:\n",
    "        points_5 = 1 \n",
    "\n",
    "    if player.Athlete6 == results[1]:\n",
    "        points_6 = 0 \n",
    "    elif player.Athlete6 == results[2]:\n",
    "        points_6 = 1 \n",
    "    elif player.Athlete6 == results[3]:\n",
    "        points_6 = 2 \n",
    "    elif player.Athlete6 == results[4]:\n",
    "        points_6 = 4 \n",
    "    elif player.Athlete6 == results[5]:\n",
    "        points_6 = 6 \n",
    "    elif player.Athlete6 == results[6]:\n",
    "        points_6 = 10 \n",
    "    elif player.Athlete6 == results[7]:\n",
    "        points_6 = 6 \n",
    "    elif player.Athlete6 == results[8]:\n",
    "        points_6 = 4 \n",
    "    elif player.Athlete6 == results[9]:\n",
    "        points_6 = 2 \n",
    "    elif player.Athlete6 == results[10]:\n",
    "        points_6 = 1 \n",
    "         \n",
    "        \n",
    "    return points_1 + points_2 + points_3 + points_4 + points_5 + points_6\n"
   ]
  },
  {
   "cell_type": "code",
   "execution_count": 13,
   "metadata": {},
   "outputs": [
    {
     "data": {
      "text/html": [
       "<div>\n",
       "<style>\n",
       "    .dataframe thead tr:only-child th {\n",
       "        text-align: right;\n",
       "    }\n",
       "\n",
       "    .dataframe thead th {\n",
       "        text-align: left;\n",
       "    }\n",
       "\n",
       "    .dataframe tbody tr th {\n",
       "        vertical-align: top;\n",
       "    }\n",
       "</style>\n",
       "<table border=\"1\" class=\"dataframe\">\n",
       "  <thead>\n",
       "    <tr style=\"text-align: right;\">\n",
       "      <th></th>\n",
       "      <th>Player</th>\n",
       "      <th>Athlete1</th>\n",
       "      <th>Athlete2</th>\n",
       "      <th>Athlete3</th>\n",
       "      <th>Athlete4</th>\n",
       "      <th>Athlete5</th>\n",
       "      <th>Athlete6</th>\n",
       "      <th>Datetime</th>\n",
       "      <th>Points</th>\n",
       "    </tr>\n",
       "  </thead>\n",
       "  <tbody>\n",
       "    <tr>\n",
       "      <th>180</th>\n",
       "      <td>Alex</td>\n",
       "      <td>FRO</td>\n",
       "      <td>SAN</td>\n",
       "      <td>STE</td>\n",
       "      <td>DON</td>\n",
       "      <td>KIE</td>\n",
       "      <td>AER</td>\n",
       "      <td>05/10/2017 19:47</td>\n",
       "      <td>60</td>\n",
       "    </tr>\n",
       "  </tbody>\n",
       "</table>\n",
       "</div>"
      ],
      "text/plain": [
       "    Player Athlete1 Athlete2 Athlete3 Athlete4 Athlete5 Athlete6  \\\n",
       "180   Alex      FRO      SAN      STE      DON      KIE      AER   \n",
       "\n",
       "             Datetime  Points  \n",
       "180  05/10/2017 19:47      60  "
      ]
     },
     "execution_count": 13,
     "metadata": {},
     "output_type": "execute_result"
    }
   ],
   "source": [
    "# resultat fictif pour l'instant\n",
    "results = {1:'FRO', 2:'SAN', 3:'STE', 4:'DON', 5:'KIE', 6:'AER', 7:'VIE', 8:'BOZ', 9:'DEG', 10:'POT'}\n",
    "res = pd.Series(results)\n",
    "\n",
    "# add a column containing the obtained points for each gamer\n",
    "df['Points'] = df.apply(calculate_points, axis=1)\n",
    "\n",
    "# check list line\n",
    "df.tail(1)"
   ]
  },
  {
   "cell_type": "code",
   "execution_count": 14,
   "metadata": {},
   "outputs": [
    {
     "data": {
      "text/html": [
       "<div>\n",
       "<style>\n",
       "    .dataframe thead tr:only-child th {\n",
       "        text-align: right;\n",
       "    }\n",
       "\n",
       "    .dataframe thead th {\n",
       "        text-align: left;\n",
       "    }\n",
       "\n",
       "    .dataframe tbody tr th {\n",
       "        vertical-align: top;\n",
       "    }\n",
       "</style>\n",
       "<table border=\"1\" class=\"dataframe\">\n",
       "  <thead>\n",
       "    <tr style=\"text-align: right;\">\n",
       "      <th></th>\n",
       "      <th>Player</th>\n",
       "      <th>Athlete1</th>\n",
       "      <th>Athlete2</th>\n",
       "      <th>Athlete3</th>\n",
       "      <th>Athlete4</th>\n",
       "      <th>Athlete5</th>\n",
       "      <th>Athlete6</th>\n",
       "      <th>Datetime</th>\n",
       "      <th>Points</th>\n",
       "    </tr>\n",
       "  </thead>\n",
       "  <tbody>\n",
       "    <tr>\n",
       "      <th>180</th>\n",
       "      <td>Alex</td>\n",
       "      <td>FRO</td>\n",
       "      <td>SAN</td>\n",
       "      <td>STE</td>\n",
       "      <td>DON</td>\n",
       "      <td>KIE</td>\n",
       "      <td>AER</td>\n",
       "      <td>05/10/2017 19:47</td>\n",
       "      <td>60</td>\n",
       "    </tr>\n",
       "    <tr>\n",
       "      <th>166</th>\n",
       "      <td>Guillaume</td>\n",
       "      <td>FRO</td>\n",
       "      <td>SAN</td>\n",
       "      <td>FVL</td>\n",
       "      <td>DON</td>\n",
       "      <td>KIE</td>\n",
       "      <td>AER</td>\n",
       "      <td>05/10/2017 23:06</td>\n",
       "      <td>50</td>\n",
       "    </tr>\n",
       "    <tr>\n",
       "      <th>76</th>\n",
       "      <td>duf</td>\n",
       "      <td>FRO</td>\n",
       "      <td>SAN</td>\n",
       "      <td>KIE</td>\n",
       "      <td>DON</td>\n",
       "      <td>AER</td>\n",
       "      <td>FVL</td>\n",
       "      <td>06/10/2017 05:11</td>\n",
       "      <td>40</td>\n",
       "    </tr>\n",
       "    <tr>\n",
       "      <th>128</th>\n",
       "      <td>sadlig</td>\n",
       "      <td>FRO</td>\n",
       "      <td>SAN</td>\n",
       "      <td>VIE</td>\n",
       "      <td>AER</td>\n",
       "      <td>KIE</td>\n",
       "      <td>DON</td>\n",
       "      <td>06/10/2017 01:28</td>\n",
       "      <td>39</td>\n",
       "    </tr>\n",
       "    <tr>\n",
       "      <th>154</th>\n",
       "      <td>LOTTERIE</td>\n",
       "      <td>FRO</td>\n",
       "      <td>SAN</td>\n",
       "      <td>DON</td>\n",
       "      <td>KIE</td>\n",
       "      <td>AER</td>\n",
       "      <td>HOF</td>\n",
       "      <td>05/10/2017 23:57</td>\n",
       "      <td>38</td>\n",
       "    </tr>\n",
       "    <tr>\n",
       "      <th>115</th>\n",
       "      <td>gil34</td>\n",
       "      <td>FRO</td>\n",
       "      <td>SAN</td>\n",
       "      <td>FVL</td>\n",
       "      <td>KIE</td>\n",
       "      <td>DON</td>\n",
       "      <td>VIE</td>\n",
       "      <td>06/10/2017 01:58</td>\n",
       "      <td>38</td>\n",
       "    </tr>\n",
       "    <tr>\n",
       "      <th>92</th>\n",
       "      <td>Simon C</td>\n",
       "      <td>SAN</td>\n",
       "      <td>FRO</td>\n",
       "      <td>DON</td>\n",
       "      <td>KIE</td>\n",
       "      <td>VIE</td>\n",
       "      <td>AER</td>\n",
       "      <td>06/10/2017 03:30</td>\n",
       "      <td>38</td>\n",
       "    </tr>\n",
       "    <tr>\n",
       "      <th>60</th>\n",
       "      <td>Jotry</td>\n",
       "      <td>FRO</td>\n",
       "      <td>LAN</td>\n",
       "      <td>SAN</td>\n",
       "      <td>AER</td>\n",
       "      <td>KIE</td>\n",
       "      <td>VIE</td>\n",
       "      <td>06/10/2017 07:58</td>\n",
       "      <td>36</td>\n",
       "    </tr>\n",
       "    <tr>\n",
       "      <th>121</th>\n",
       "      <td>Bentri</td>\n",
       "      <td>FRO</td>\n",
       "      <td>SAN</td>\n",
       "      <td>KIE</td>\n",
       "      <td>AER</td>\n",
       "      <td>VIE</td>\n",
       "      <td>DON</td>\n",
       "      <td>06/10/2017 01:41</td>\n",
       "      <td>36</td>\n",
       "    </tr>\n",
       "  </tbody>\n",
       "</table>\n",
       "</div>"
      ],
      "text/plain": [
       "        Player Athlete1 Athlete2 Athlete3 Athlete4 Athlete5 Athlete6  \\\n",
       "180       Alex      FRO      SAN      STE      DON      KIE      AER   \n",
       "166  Guillaume      FRO      SAN      FVL      DON      KIE      AER   \n",
       "76         duf      FRO      SAN      KIE      DON      AER      FVL   \n",
       "128     sadlig      FRO      SAN      VIE      AER      KIE      DON   \n",
       "154   LOTTERIE      FRO      SAN      DON      KIE      AER      HOF   \n",
       "115      gil34      FRO      SAN      FVL      KIE      DON      VIE   \n",
       "92     Simon C      SAN      FRO      DON      KIE      VIE      AER   \n",
       "60       Jotry      FRO      LAN      SAN      AER      KIE      VIE   \n",
       "121     Bentri      FRO      SAN      KIE      AER      VIE      DON   \n",
       "\n",
       "             Datetime  Points  \n",
       "180  05/10/2017 19:47      60  \n",
       "166  05/10/2017 23:06      50  \n",
       "76   06/10/2017 05:11      40  \n",
       "128  06/10/2017 01:28      39  \n",
       "154  05/10/2017 23:57      38  \n",
       "115  06/10/2017 01:58      38  \n",
       "92   06/10/2017 03:30      38  \n",
       "60   06/10/2017 07:58      36  \n",
       "121  06/10/2017 01:41      36  "
      ]
     },
     "execution_count": 14,
     "metadata": {},
     "output_type": "execute_result"
    }
   ],
   "source": [
    "# sort the lines with the winner gamer first (decreasing order according to 'Points' value)\n",
    "df = df.sort_values(by ='Points', ascending=False)\n",
    "\n",
    "# display the first 9 winners (still decreasing order)\n",
    "df.head(9)"
   ]
  },
  {
   "cell_type": "code",
   "execution_count": 15,
   "metadata": {
    "collapsed": true
   },
   "outputs": [],
   "source": [
    "# save resuts within a CSV file\n",
    "file2 = \"2017_kona_pronostics_classement.csv\"\n",
    "df.to_csv(file2, sep=';', encoding = \"ISO-8859-1\", index=False)"
   ]
  }
 ],
 "metadata": {
  "kernelspec": {
   "display_name": "Python 3",
   "language": "python",
   "name": "python3"
  },
  "language_info": {
   "codemirror_mode": {
    "name": "ipython",
    "version": 3
   },
   "file_extension": ".py",
   "mimetype": "text/x-python",
   "name": "python",
   "nbconvert_exporter": "python",
   "pygments_lexer": "ipython3",
   "version": "3.6.1"
  }
 },
 "nbformat": 4,
 "nbformat_minor": 2
}

