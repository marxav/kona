{
 "cells": [
  {
   "cell_type": "code",
   "execution_count": 1,
   "metadata": {
    "collapsed": true
   },
   "outputs": [],
   "source": [
    "import pandas as pd"
   ]
  },
  {
   "cell_type": "code",
   "execution_count": 2,
   "metadata": {
    "collapsed": true
   },
   "outputs": [],
   "source": [
    "year = \"2017\""
   ]
  },
  {
   "cell_type": "code",
   "execution_count": 3,
   "metadata": {
    "collapsed": true
   },
   "outputs": [],
   "source": [
    "df = pd.read_csv(\"./\"+year+\"_kona_pronostics.csv\", delimiter=';', encoding = \"ISO-8859-1\")"
   ]
  },
  {
   "cell_type": "code",
   "execution_count": 4,
   "metadata": {},
   "outputs": [
    {
     "data": {
      "text/html": [
       "<div>\n",
       "<style>\n",
       "    .dataframe thead tr:only-child th {\n",
       "        text-align: right;\n",
       "    }\n",
       "\n",
       "    .dataframe thead th {\n",
       "        text-align: left;\n",
       "    }\n",
       "\n",
       "    .dataframe tbody tr th {\n",
       "        vertical-align: top;\n",
       "    }\n",
       "</style>\n",
       "<table border=\"1\" class=\"dataframe\">\n",
       "  <thead>\n",
       "    <tr style=\"text-align: right;\">\n",
       "      <th></th>\n",
       "      <th>Unnamed: 0</th>\n",
       "      <th>Player</th>\n",
       "      <th>Athlete1</th>\n",
       "      <th>Athlete2</th>\n",
       "      <th>Athlete3</th>\n",
       "      <th>Athlete4</th>\n",
       "      <th>Athlete5</th>\n",
       "      <th>Athlete6</th>\n",
       "      <th>Datetime</th>\n",
       "    </tr>\n",
       "  </thead>\n",
       "  <tbody>\n",
       "    <tr>\n",
       "      <th>180</th>\n",
       "      <td>180</td>\n",
       "      <td>Alex</td>\n",
       "      <td>FRO</td>\n",
       "      <td>SAN</td>\n",
       "      <td>STE</td>\n",
       "      <td>DON</td>\n",
       "      <td>KIE</td>\n",
       "      <td>AER</td>\n",
       "      <td>05/10/2017 19:47</td>\n",
       "    </tr>\n",
       "  </tbody>\n",
       "</table>\n",
       "</div>"
      ],
      "text/plain": [
       "     Unnamed: 0 Player Athlete1 Athlete2 Athlete3 Athlete4 Athlete5 Athlete6  \\\n",
       "180         180   Alex      FRO      SAN      STE      DON      KIE      AER   \n",
       "\n",
       "             Datetime  \n",
       "180  05/10/2017 19:47  "
      ]
     },
     "execution_count": 4,
     "metadata": {},
     "output_type": "execute_result"
    }
   ],
   "source": [
    "df.tail(1)"
   ]
  },
  {
   "cell_type": "code",
   "execution_count": 5,
   "metadata": {},
   "outputs": [
    {
     "data": {
      "text/html": [
       "<div>\n",
       "<style>\n",
       "    .dataframe thead tr:only-child th {\n",
       "        text-align: right;\n",
       "    }\n",
       "\n",
       "    .dataframe thead th {\n",
       "        text-align: left;\n",
       "    }\n",
       "\n",
       "    .dataframe tbody tr th {\n",
       "        vertical-align: top;\n",
       "    }\n",
       "</style>\n",
       "<table border=\"1\" class=\"dataframe\">\n",
       "  <thead>\n",
       "    <tr style=\"text-align: right;\">\n",
       "      <th></th>\n",
       "      <th>Unnamed: 0</th>\n",
       "      <th>Player</th>\n",
       "      <th>Athlete1</th>\n",
       "      <th>Athlete2</th>\n",
       "      <th>Athlete3</th>\n",
       "      <th>Athlete4</th>\n",
       "      <th>Athlete5</th>\n",
       "      <th>Athlete6</th>\n",
       "      <th>Datetime</th>\n",
       "    </tr>\n",
       "  </thead>\n",
       "  <tbody>\n",
       "    <tr>\n",
       "      <th>0</th>\n",
       "      <td>0</td>\n",
       "      <td>pompom.gali</td>\n",
       "      <td>FRO</td>\n",
       "      <td>KIE</td>\n",
       "      <td>DON</td>\n",
       "      <td>LAN</td>\n",
       "      <td>SAN</td>\n",
       "      <td>FROM</td>\n",
       "      <td>09/10/2017 13:18</td>\n",
       "    </tr>\n",
       "    <tr>\n",
       "      <th>1</th>\n",
       "      <td>1</td>\n",
       "      <td>Francois</td>\n",
       "      <td>FRO</td>\n",
       "      <td>FVL</td>\n",
       "      <td>KIE</td>\n",
       "      <td>POT</td>\n",
       "      <td>VIE</td>\n",
       "      <td>DON</td>\n",
       "      <td>09/10/2017 08:09</td>\n",
       "    </tr>\n",
       "    <tr>\n",
       "      <th>2</th>\n",
       "      <td>2</td>\n",
       "      <td>Cyrille morvant</td>\n",
       "      <td>FRO</td>\n",
       "      <td>KIE</td>\n",
       "      <td>SAN</td>\n",
       "      <td>FVL</td>\n",
       "      <td>HOF</td>\n",
       "      <td>DON</td>\n",
       "      <td>09/10/2017 07:43</td>\n",
       "    </tr>\n",
       "    <tr>\n",
       "      <th>3</th>\n",
       "      <td>3</td>\n",
       "      <td>Frédéric Viple</td>\n",
       "      <td>FRO</td>\n",
       "      <td>SAN</td>\n",
       "      <td>KIE</td>\n",
       "      <td>ODO</td>\n",
       "      <td>LAN</td>\n",
       "      <td>CHEV</td>\n",
       "      <td>08/10/2017 11:58</td>\n",
       "    </tr>\n",
       "    <tr>\n",
       "      <th>4</th>\n",
       "      <td>4</td>\n",
       "      <td>bruno trecoire</td>\n",
       "      <td>FRO</td>\n",
       "      <td>FVL</td>\n",
       "      <td>KIE</td>\n",
       "      <td>LAN</td>\n",
       "      <td>VIE</td>\n",
       "      <td>HOF</td>\n",
       "      <td>08/10/2017 11:28</td>\n",
       "    </tr>\n",
       "  </tbody>\n",
       "</table>\n",
       "</div>"
      ],
      "text/plain": [
       "   Unnamed: 0                 Player Athlete1 Athlete2 Athlete3 Athlete4  \\\n",
       "0           0            pompom.gali      FRO      KIE      DON      LAN   \n",
       "1           1               Francois      FRO      FVL      KIE      POT   \n",
       "2           2        Cyrille morvant      FRO      KIE      SAN      FVL   \n",
       "3           3         Frédéric Viple      FRO      SAN      KIE      ODO   \n",
       "4           4         bruno trecoire      FRO      FVL      KIE      LAN   \n",
       "\n",
       "  Athlete5 Athlete6          Datetime  \n",
       "0      SAN     FROM  09/10/2017 13:18  \n",
       "1      VIE      DON  09/10/2017 08:09  \n",
       "2      HOF      DON  09/10/2017 07:43  \n",
       "3      LAN     CHEV  08/10/2017 11:58  \n",
       "4      VIE      HOF  08/10/2017 11:28  "
      ]
     },
     "execution_count": 5,
     "metadata": {},
     "output_type": "execute_result"
    }
   ],
   "source": [
    "df.head(5)"
   ]
  },
  {
   "cell_type": "code",
   "execution_count": 6,
   "metadata": {},
   "outputs": [
    {
     "data": {
      "text/plain": [
       "FRO    123\n",
       "SAN     24\n",
       "FVL     15\n",
       "KIE     10\n",
       "LAN      4\n",
       "HOF      2\n",
       "CUN      1\n",
       "AER      1\n",
       "DON      1\n",
       "Name: Athlete1, dtype: int64"
      ]
     },
     "execution_count": 6,
     "metadata": {},
     "output_type": "execute_result"
    }
   ],
   "source": [
    "df.Athlete1.value_counts().head(10)"
   ]
  },
  {
   "cell_type": "code",
   "execution_count": 7,
   "metadata": {},
   "outputs": [
    {
     "data": {
      "text/plain": [
       "SAN    52\n",
       "KIE    40\n",
       "FRO    34\n",
       "FVL    26\n",
       "HOF     7\n",
       "DON     5\n",
       "LAN     4\n",
       "CUN     3\n",
       "MCM     3\n",
       "ODO     2\n",
       "Name: Athlete2, dtype: int64"
      ]
     },
     "execution_count": 7,
     "metadata": {},
     "output_type": "execute_result"
    }
   ],
   "source": [
    "df.Athlete2.value_counts().head(10)"
   ]
  },
  {
   "cell_type": "code",
   "execution_count": 8,
   "metadata": {},
   "outputs": [
    {
     "data": {
      "text/plain": [
       "KIE    53\n",
       "SAN    30\n",
       "FVL    29\n",
       "VIE    14\n",
       "HOF    11\n",
       "DON    11\n",
       "FRO    11\n",
       "LAN     5\n",
       "ODO     3\n",
       "AER     3\n",
       "Name: Athlete3, dtype: int64"
      ]
     },
     "execution_count": 8,
     "metadata": {},
     "output_type": "execute_result"
    }
   ],
   "source": [
    "df.Athlete3.value_counts().head(10)"
   ]
  },
  {
   "cell_type": "code",
   "execution_count": 9,
   "metadata": {},
   "outputs": [
    {
     "data": {
      "text/plain": [
       "KIE    38\n",
       "FVL    23\n",
       "VIE    23\n",
       "SAN    19\n",
       "AER    18\n",
       "HOF    11\n",
       "POT     8\n",
       "DON     6\n",
       "LAN     5\n",
       "CUN     4\n",
       "Name: Athlete4, dtype: int64"
      ]
     },
     "execution_count": 9,
     "metadata": {},
     "output_type": "execute_result"
    }
   ],
   "source": [
    "df.Athlete4.value_counts().head(10)"
   ]
  },
  {
   "cell_type": "code",
   "execution_count": 10,
   "metadata": {},
   "outputs": [
    {
     "data": {
      "text/plain": [
       "VIE     22\n",
       "FVL     18\n",
       "KIE     18\n",
       "DON     16\n",
       "SAN     16\n",
       "AER     15\n",
       "HOF     14\n",
       "LAN     10\n",
       "CHEV     6\n",
       "STE      5\n",
       "Name: Athlete5, dtype: int64"
      ]
     },
     "execution_count": 10,
     "metadata": {},
     "output_type": "execute_result"
    }
   ],
   "source": [
    "df.Athlete5.value_counts().head(10)"
   ]
  },
  {
   "cell_type": "code",
   "execution_count": 11,
   "metadata": {},
   "outputs": [
    {
     "data": {
      "text/plain": [
       "VIE     24\n",
       "DON     20\n",
       "FVL     16\n",
       "HOF     13\n",
       "CHEV    13\n",
       "AER      9\n",
       "ODO      8\n",
       "POT      7\n",
       "KIE      7\n",
       "SAN      7\n",
       "Name: Athlete6, dtype: int64"
      ]
     },
     "execution_count": 11,
     "metadata": {},
     "output_type": "execute_result"
    }
   ],
   "source": [
    "df.Athlete6.value_counts().head(10)"
   ]
  },
  {
   "cell_type": "code",
   "execution_count": null,
   "metadata": {
    "collapsed": true
   },
   "outputs": [],
   "source": []
  },
  {
   "cell_type": "code",
   "execution_count": 12,
   "metadata": {
    "collapsed": true
   },
   "outputs": [],
   "source": [
    "#10 pts par bonne position.\n",
    "#6 pts pour 1 athlète qui termine à 1 place de ton pronostic.\n",
    "#4 pts pour 1 athlète qui termine à 2 places de ton pronostic.\n",
    "#2 pts pour 1 athlète qui termine à 3 places de ton pronostic.\n",
    "#1 pts pour 1 athlète qui termine à 4 places de ton pronostic.\n",
    "def calculate_points(player):\n",
    "    \n",
    "    points_1 = 0\n",
    "    points_2 = 0\n",
    "    points_3 = 0\n",
    "    points_4 = 0\n",
    "    points_5 = 0\n",
    "    points_6 = 0\n",
    "    \n",
    "    # if athlete estimated as 1st arrived 1st\n",
    "    if player.Athlete1 == results[1]:\n",
    "        points_1 = 10 \n",
    "    # if athlete estimated as 1st arrived 2nd\n",
    "    elif player.Athlete1 == results[2]:\n",
    "        points_1 = 6 \n",
    "    # if athlete estimated as 1st arrived 3rd\n",
    "    elif player.Athlete1 == results[3]:\n",
    "        points_1 = 4 \n",
    "    # if athlete estimated as 1st arrived 4th\n",
    "    elif player.Athlete1 == results[4]:\n",
    "        points_1 = 2 \n",
    "    # if athlete estimated as 1st arrived 5th\n",
    "    elif player.Athlete1 == results[5]:\n",
    "        points_1 = 1 \n",
    "        \n",
    "    # if athlete estimated as 2nd arrived 1st\n",
    "    if player.Athlete2 == results[1]:\n",
    "        points_2 = 6 \n",
    "    # if athlete estimated as 2nd arrived 2nd\n",
    "    elif player.Athlete2 == results[2]:\n",
    "        points_2 = 10 \n",
    "    # ...\n",
    "    elif player.Athlete2 == results[3]:\n",
    "        points_2 = 6 \n",
    "    elif player.Athlete2 == results[4]:\n",
    "        points_2 = 4 \n",
    "    elif player.Athlete2 == results[5]:\n",
    "        points_2 = 2 \n",
    "    elif player.Athlete2 == results[6]:\n",
    "        points_2 = 1 \n",
    " \n",
    "    if player.Athlete3 == results[1]:\n",
    "        points_3 = 4 \n",
    "    elif player.Athlete3 == results[2]:\n",
    "        points_3 = 6 \n",
    "    elif player.Athlete3 == results[3]:\n",
    "        points_3 = 10 \n",
    "    elif player.Athlete3 == results[4]:\n",
    "        points_3 = 6\n",
    "    elif player.Athlete3 == results[5]:\n",
    "        points_3 = 4 \n",
    "    elif player.Athlete3 == results[6]:\n",
    "        points_3 = 2 \n",
    "    elif player.Athlete3 == results[7]:\n",
    "        points_3 = 1 \n",
    "    \n",
    "    if player.Athlete4 == results[1]:\n",
    "        points_4 = 2 \n",
    "    elif player.Athlete4 == results[2]:\n",
    "        points_4 = 4 \n",
    "    elif player.Athlete4 == results[3]:\n",
    "        points_4 = 6 \n",
    "    elif player.Athlete4 == results[4]:\n",
    "        points_4 = 10 \n",
    "    elif player.Athlete4 == results[5]:\n",
    "        points_4 = 6 \n",
    "    elif player.Athlete4 == results[6]:\n",
    "        points_4 = 4 \n",
    "    elif player.Athlete4 == results[7]:\n",
    "        points_4 = 2 \n",
    "    elif player.Athlete4 == results[8]:\n",
    "        points_4 = 1 \n",
    "        \n",
    "    if player.Athlete5 == results[1]:\n",
    "        points_5 = 1 \n",
    "    elif player.Athlete5 == results[2]:\n",
    "        points_5 = 2 \n",
    "    elif player.Athlete5 == results[3]:\n",
    "        points_5 = 4 \n",
    "    elif player.Athlete5 == results[4]:\n",
    "        points_5 = 6\n",
    "    elif player.Athlete5 == results[5]:\n",
    "        points_5 = 10\n",
    "    elif player.Athlete5 == results[6]:\n",
    "        points_5 = 6 \n",
    "    elif player.Athlete5 == results[7]:\n",
    "        points_5 = 4 \n",
    "    elif player.Athlete5 == results[8]:\n",
    "        points_5 = 2 \n",
    "    elif player.Athlete5 == results[9]:\n",
    "        points_5 = 1 \n",
    "\n",
    "    if player.Athlete6 == results[1]:\n",
    "        points_6 = 0 \n",
    "    elif player.Athlete6 == results[2]:\n",
    "        points_6 = 1 \n",
    "    elif player.Athlete6 == results[3]:\n",
    "        points_6 = 2 \n",
    "    elif player.Athlete6 == results[4]:\n",
    "        points_6 = 4 \n",
    "    elif player.Athlete6 == results[5]:\n",
    "        points_6 = 6 \n",
    "    elif player.Athlete6 == results[6]:\n",
    "        points_6 = 10 \n",
    "    elif player.Athlete6 == results[7]:\n",
    "        points_6 = 6 \n",
    "    elif player.Athlete6 == results[8]:\n",
    "        points_6 = 4 \n",
    "    elif player.Athlete6 == results[9]:\n",
    "        points_6 = 2 \n",
    "    elif player.Athlete6 == results[10]:\n",
    "        points_6 = 1 \n",
    "         \n",
    "        \n",
    "    return points_1 + points_2 + points_3 + points_4 + points_5 + points_6\n"
   ]
  },
  {
   "cell_type": "code",
   "execution_count": 13,
   "metadata": {},
   "outputs": [
    {
     "data": {
      "text/html": [
       "<div>\n",
       "<style>\n",
       "    .dataframe thead tr:only-child th {\n",
       "        text-align: right;\n",
       "    }\n",
       "\n",
       "    .dataframe thead th {\n",
       "        text-align: left;\n",
       "    }\n",
       "\n",
       "    .dataframe tbody tr th {\n",
       "        vertical-align: top;\n",
       "    }\n",
       "</style>\n",
       "<table border=\"1\" class=\"dataframe\">\n",
       "  <thead>\n",
       "    <tr style=\"text-align: right;\">\n",
       "      <th></th>\n",
       "      <th>Unnamed: 0</th>\n",
       "      <th>Player</th>\n",
       "      <th>Athlete1</th>\n",
       "      <th>Athlete2</th>\n",
       "      <th>Athlete3</th>\n",
       "      <th>Athlete4</th>\n",
       "      <th>Athlete5</th>\n",
       "      <th>Athlete6</th>\n",
       "      <th>Datetime</th>\n",
       "      <th>Points</th>\n",
       "    </tr>\n",
       "  </thead>\n",
       "  <tbody>\n",
       "    <tr>\n",
       "      <th>180</th>\n",
       "      <td>180</td>\n",
       "      <td>Alex</td>\n",
       "      <td>FRO</td>\n",
       "      <td>SAN</td>\n",
       "      <td>STE</td>\n",
       "      <td>DON</td>\n",
       "      <td>KIE</td>\n",
       "      <td>AER</td>\n",
       "      <td>05/10/2017 19:47</td>\n",
       "      <td>60</td>\n",
       "    </tr>\n",
       "    <tr>\n",
       "      <th>166</th>\n",
       "      <td>166</td>\n",
       "      <td>Guillaume</td>\n",
       "      <td>FRO</td>\n",
       "      <td>SAN</td>\n",
       "      <td>FVL</td>\n",
       "      <td>DON</td>\n",
       "      <td>KIE</td>\n",
       "      <td>AER</td>\n",
       "      <td>05/10/2017 23:06</td>\n",
       "      <td>50</td>\n",
       "    </tr>\n",
       "    <tr>\n",
       "      <th>76</th>\n",
       "      <td>76</td>\n",
       "      <td>duf</td>\n",
       "      <td>FRO</td>\n",
       "      <td>SAN</td>\n",
       "      <td>KIE</td>\n",
       "      <td>DON</td>\n",
       "      <td>AER</td>\n",
       "      <td>FVL</td>\n",
       "      <td>06/10/2017 05:11</td>\n",
       "      <td>40</td>\n",
       "    </tr>\n",
       "    <tr>\n",
       "      <th>128</th>\n",
       "      <td>128</td>\n",
       "      <td>sadlig</td>\n",
       "      <td>FRO</td>\n",
       "      <td>SAN</td>\n",
       "      <td>VIE</td>\n",
       "      <td>AER</td>\n",
       "      <td>KIE</td>\n",
       "      <td>DON</td>\n",
       "      <td>06/10/2017 01:28</td>\n",
       "      <td>39</td>\n",
       "    </tr>\n",
       "    <tr>\n",
       "      <th>154</th>\n",
       "      <td>154</td>\n",
       "      <td>LOTTERIE</td>\n",
       "      <td>FRO</td>\n",
       "      <td>SAN</td>\n",
       "      <td>DON</td>\n",
       "      <td>KIE</td>\n",
       "      <td>AER</td>\n",
       "      <td>HOF</td>\n",
       "      <td>05/10/2017 23:57</td>\n",
       "      <td>38</td>\n",
       "    </tr>\n",
       "    <tr>\n",
       "      <th>115</th>\n",
       "      <td>115</td>\n",
       "      <td>gil34</td>\n",
       "      <td>FRO</td>\n",
       "      <td>SAN</td>\n",
       "      <td>FVL</td>\n",
       "      <td>KIE</td>\n",
       "      <td>DON</td>\n",
       "      <td>VIE</td>\n",
       "      <td>06/10/2017 01:58</td>\n",
       "      <td>38</td>\n",
       "    </tr>\n",
       "    <tr>\n",
       "      <th>92</th>\n",
       "      <td>92</td>\n",
       "      <td>Simon C</td>\n",
       "      <td>SAN</td>\n",
       "      <td>FRO</td>\n",
       "      <td>DON</td>\n",
       "      <td>KIE</td>\n",
       "      <td>VIE</td>\n",
       "      <td>AER</td>\n",
       "      <td>06/10/2017 03:30</td>\n",
       "      <td>38</td>\n",
       "    </tr>\n",
       "    <tr>\n",
       "      <th>60</th>\n",
       "      <td>60</td>\n",
       "      <td>Jotry</td>\n",
       "      <td>FRO</td>\n",
       "      <td>LAN</td>\n",
       "      <td>SAN</td>\n",
       "      <td>AER</td>\n",
       "      <td>KIE</td>\n",
       "      <td>VIE</td>\n",
       "      <td>06/10/2017 07:58</td>\n",
       "      <td>36</td>\n",
       "    </tr>\n",
       "    <tr>\n",
       "      <th>121</th>\n",
       "      <td>121</td>\n",
       "      <td>Bentri</td>\n",
       "      <td>FRO</td>\n",
       "      <td>SAN</td>\n",
       "      <td>KIE</td>\n",
       "      <td>AER</td>\n",
       "      <td>VIE</td>\n",
       "      <td>DON</td>\n",
       "      <td>06/10/2017 01:41</td>\n",
       "      <td>36</td>\n",
       "    </tr>\n",
       "    <tr>\n",
       "      <th>90</th>\n",
       "      <td>90</td>\n",
       "      <td>Brégeat Edouard</td>\n",
       "      <td>FRO</td>\n",
       "      <td>SAN</td>\n",
       "      <td>KIE</td>\n",
       "      <td>FVL</td>\n",
       "      <td>DON</td>\n",
       "      <td>VIE</td>\n",
       "      <td>06/10/2017 04:03</td>\n",
       "      <td>36</td>\n",
       "    </tr>\n",
       "  </tbody>\n",
       "</table>\n",
       "</div>"
      ],
      "text/plain": [
       "     Unnamed: 0           Player Athlete1 Athlete2 Athlete3 Athlete4 Athlete5  \\\n",
       "180         180             Alex      FRO      SAN      STE      DON      KIE   \n",
       "166         166        Guillaume      FRO      SAN      FVL      DON      KIE   \n",
       "76           76              duf      FRO      SAN      KIE      DON      AER   \n",
       "128         128           sadlig      FRO      SAN      VIE      AER      KIE   \n",
       "154         154         LOTTERIE      FRO      SAN      DON      KIE      AER   \n",
       "115         115            gil34      FRO      SAN      FVL      KIE      DON   \n",
       "92           92          Simon C      SAN      FRO      DON      KIE      VIE   \n",
       "60           60            Jotry      FRO      LAN      SAN      AER      KIE   \n",
       "121         121           Bentri      FRO      SAN      KIE      AER      VIE   \n",
       "90           90  Brégeat Edouard      FRO      SAN      KIE      FVL      DON   \n",
       "\n",
       "    Athlete6          Datetime  Points  \n",
       "180      AER  05/10/2017 19:47      60  \n",
       "166      AER  05/10/2017 23:06      50  \n",
       "76       FVL  06/10/2017 05:11      40  \n",
       "128      DON  06/10/2017 01:28      39  \n",
       "154      HOF  05/10/2017 23:57      38  \n",
       "115      VIE  06/10/2017 01:58      38  \n",
       "92       AER  06/10/2017 03:30      38  \n",
       "60       VIE  06/10/2017 07:58      36  \n",
       "121      DON  06/10/2017 01:41      36  \n",
       "90       VIE  06/10/2017 04:03      36  "
      ]
     },
     "execution_count": 13,
     "metadata": {},
     "output_type": "execute_result"
    }
   ],
   "source": [
    "# resultat fictif pour l'instant\n",
    "results = {1:'FRO', 2:'SAN', 3:'STE', 4:'DON', 5:'KIE', 6:'AER', 7:'VIE', 8:'BOZ', 9:'DEG', 10:'POT'}\n",
    "res = pd.Series(results)\n",
    "df['Points'] = df.apply(calculate_points, axis=1)\n",
    "df = df.sort_values(by ='Points', ascending=False)\n",
    "df.head(10)"
   ]
  },
  {
   "cell_type": "code",
   "execution_count": 14,
   "metadata": {
    "collapsed": true
   },
   "outputs": [],
   "source": [
    "# save resuts within a CSV file\n",
    "df.to_csv(\"./\"+year+\"_kona_pronostics_classement.csv\", sep=';', encoding = \"ISO-8859-1\")"
   ]
  },
  {
   "cell_type": "code",
   "execution_count": null,
   "metadata": {
    "collapsed": true
   },
   "outputs": [],
   "source": []
  }
 ],
 "metadata": {
  "kernelspec": {
   "display_name": "Python 3",
   "language": "python",
   "name": "python3"
  },
  "language_info": {
   "codemirror_mode": {
    "name": "ipython",
    "version": 3
   },
   "file_extension": ".py",
   "mimetype": "text/x-python",
   "name": "python",
   "nbconvert_exporter": "python",
   "pygments_lexer": "ipython3",
   "version": "3.6.1"
  }
 },
 "nbformat": 4,
 "nbformat_minor": 2
}

