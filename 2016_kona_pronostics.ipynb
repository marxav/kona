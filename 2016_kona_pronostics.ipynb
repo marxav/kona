{
 "cells": [
  {
   "cell_type": "code",
   "execution_count": 1,
   "metadata": {
    "collapsed": true
   },
   "outputs": [],
   "source": [
    "import pandas as pd\n",
    "%matplotlib inline"
   ]
  },
  {
   "cell_type": "code",
   "execution_count": 2,
   "metadata": {
    "collapsed": true
   },
   "outputs": [],
   "source": [
    "file = \"2016_kona_pronostics.csv\""
   ]
  },
  {
   "cell_type": "code",
   "execution_count": 3,
   "metadata": {
    "collapsed": true
   },
   "outputs": [],
   "source": [
    "df = pd.read_csv(file, delimiter=';', encoding = \"ISO-8859-1\")"
   ]
  },
  {
   "cell_type": "code",
   "execution_count": 4,
   "metadata": {},
   "outputs": [
    {
     "data": {
      "text/html": [
       "<div>\n",
       "<style>\n",
       "    .dataframe thead tr:only-child th {\n",
       "        text-align: right;\n",
       "    }\n",
       "\n",
       "    .dataframe thead th {\n",
       "        text-align: left;\n",
       "    }\n",
       "\n",
       "    .dataframe tbody tr th {\n",
       "        vertical-align: top;\n",
       "    }\n",
       "</style>\n",
       "<table border=\"1\" class=\"dataframe\">\n",
       "  <thead>\n",
       "    <tr style=\"text-align: right;\">\n",
       "      <th></th>\n",
       "      <th>Player</th>\n",
       "      <th>Athlete1</th>\n",
       "      <th>Athlete2</th>\n",
       "      <th>Athlete3</th>\n",
       "      <th>Athlete4</th>\n",
       "      <th>Athlete5</th>\n",
       "      <th>Athlete6</th>\n",
       "      <th>Datetime</th>\n",
       "    </tr>\n",
       "  </thead>\n",
       "  <tbody>\n",
       "    <tr>\n",
       "      <th>212</th>\n",
       "      <td>mverniau</td>\n",
       "      <td>FRO</td>\n",
       "      <td>KIE</td>\n",
       "      <td>VIE</td>\n",
       "      <td>VANL</td>\n",
       "      <td>SAN</td>\n",
       "      <td>MCN</td>\n",
       "      <td>2016-10-02 12:22:11</td>\n",
       "    </tr>\n",
       "  </tbody>\n",
       "</table>\n",
       "</div>"
      ],
      "text/plain": [
       "       Player Athlete1 Athlete2 Athlete3 Athlete4 Athlete5 Athlete6  \\\n",
       "212  mverniau      FRO      KIE      VIE     VANL      SAN      MCN   \n",
       "\n",
       "                Datetime  \n",
       "212  2016-10-02 12:22:11  "
      ]
     },
     "execution_count": 4,
     "metadata": {},
     "output_type": "execute_result"
    }
   ],
   "source": [
    "# check list line of input file\n",
    "df.tail(1)"
   ]
  },
  {
   "cell_type": "code",
   "execution_count": 5,
   "metadata": {},
   "outputs": [
    {
     "data": {
      "text/plain": [
       "FRO     0.690141\n",
       "KIE     0.112676\n",
       "RAE     0.070423\n",
       "THOM    0.023474\n",
       "HOF     0.014085\n",
       "ODO     0.014085\n",
       "SAN     0.014085\n",
       "MCK     0.014085\n",
       "RAN     0.004695\n",
       "BRA     0.004695\n",
       "Name: Athlete1, dtype: float64"
      ]
     },
     "execution_count": 5,
     "metadata": {},
     "output_type": "execute_result"
    }
   ],
   "source": [
    "# pronostiques quant au vainqueur\n",
    "df.Athlete1.value_counts(normalize=True).head(10)"
   ]
  },
  {
   "cell_type": "code",
   "execution_count": 6,
   "metadata": {},
   "outputs": [
    {
     "data": {
      "text/plain": [
       "<matplotlib.axes._subplots.AxesSubplot at 0x96772e8>"
      ]
     },
     "execution_count": 6,
     "metadata": {},
     "output_type": "execute_result"
    },
    {
     "data": {
      "image/png": "[encoded data removed]",
      "text/plain": [
       "<matplotlib.figure.Figure at 0x9627550>"
      ]
     },
     "metadata": {},
     "output_type": "display_data"
    }
   ],
   "source": [
    "df.Athlete1.value_counts(normalize=True).head(10).plot(kind='pie')"
   ]
  },
  {
   "cell_type": "code",
   "execution_count": 7,
   "metadata": {},
   "outputs": [
    {
     "data": {
      "text/plain": [
       "KIE     0.399061\n",
       "FRO     0.140845\n",
       "VIE     0.056338\n",
       "SAN     0.051643\n",
       "HOF     0.046948\n",
       "POTT    0.042254\n",
       "BOE     0.037559\n",
       "RAE     0.037559\n",
       "VANL    0.032864\n",
       "ODO     0.023474\n",
       "Name: Athlete2, dtype: float64"
      ]
     },
     "execution_count": 7,
     "metadata": {},
     "output_type": "execute_result"
    }
   ],
   "source": [
    "df.Athlete2.value_counts(normalize=True).head(10)"
   ]
  },
  {
   "cell_type": "code",
   "execution_count": 8,
   "metadata": {},
   "outputs": [
    {
     "data": {
      "text/plain": [
       "VIE     0.197183\n",
       "KIE     0.140845\n",
       "RAE     0.107981\n",
       "VANL    0.093897\n",
       "FRO     0.084507\n",
       "SAN     0.061033\n",
       "HOF     0.037559\n",
       "STE     0.032864\n",
       "CUN     0.028169\n",
       "POTT    0.028169\n",
       "Name: Athlete3, dtype: float64"
      ]
     },
     "execution_count": 8,
     "metadata": {},
     "output_type": "execute_result"
    }
   ],
   "source": [
    "df.Athlete3.value_counts(normalize=True).head(10)"
   ]
  },
  {
   "cell_type": "code",
   "execution_count": 9,
   "metadata": {},
   "outputs": [
    {
     "data": {
      "text/plain": [
       "VIE     0.215962\n",
       "VANL    0.098592\n",
       "RAE     0.093897\n",
       "KIE     0.070423\n",
       "POTT    0.061033\n",
       "SAN     0.056338\n",
       "HOF     0.046948\n",
       "CUN     0.046948\n",
       "THOM    0.037559\n",
       "FRO     0.028169\n",
       "Name: Athlete4, dtype: float64"
      ]
     },
     "execution_count": 9,
     "metadata": {},
     "output_type": "execute_result"
    }
   ],
   "source": [
    "df.Athlete4.value_counts(normalize=True).head(10)"
   ]
  },
  {
   "cell_type": "code",
   "execution_count": 10,
   "metadata": {},
   "outputs": [
    {
     "data": {
      "text/plain": [
       "VIE     0.140845\n",
       "KIE     0.089202\n",
       "SAN     0.089202\n",
       "RAE     0.079812\n",
       "VANL    0.070423\n",
       "ODO     0.056338\n",
       "POTT    0.051643\n",
       "HOF     0.042254\n",
       "STE     0.037559\n",
       "THOM    0.032864\n",
       "Name: Athlete5, dtype: float64"
      ]
     },
     "execution_count": 10,
     "metadata": {},
     "output_type": "execute_result"
    }
   ],
   "source": [
    "df.Athlete5.value_counts(normalize=True).head(10)"
   ]
  },
  {
   "cell_type": "code",
   "execution_count": 11,
   "metadata": {},
   "outputs": [
    {
     "data": {
      "text/plain": [
       "VIE     0.117371\n",
       "VANL    0.089202\n",
       "POTT    0.079812\n",
       "SAN     0.079812\n",
       "KIE     0.070423\n",
       "CUN     0.065728\n",
       "CHE     0.056338\n",
       "RAE     0.051643\n",
       "HOF     0.032864\n",
       "STE     0.028169\n",
       "Name: Athlete6, dtype: float64"
      ]
     },
     "execution_count": 11,
     "metadata": {},
     "output_type": "execute_result"
    }
   ],
   "source": [
    "df.Athlete6.value_counts(normalize=True).head(10)"
   ]
  },
  {
   "cell_type": "code",
   "execution_count": null,
   "metadata": {
    "collapsed": true
   },
   "outputs": [],
   "source": []
  },
  {
   "cell_type": "code",
   "execution_count": 12,
   "metadata": {
    "collapsed": true
   },
   "outputs": [],
   "source": [
    "#10 pts par bonne position.\n",
    "#6 pts pour 1 athlète qui termine à 1 place de ton pronostic.\n",
    "#4 pts pour 1 athlète qui termine à 2 places de ton pronostic.\n",
    "#2 pts pour 1 athlète qui termine à 3 places de ton pronostic.\n",
    "#1 pts pour 1 athlète qui termine à 4 places de ton pronostic.\n",
    "def calculate_points(player):\n",
    "    \n",
    "    points_1 = 0\n",
    "    points_2 = 0\n",
    "    points_3 = 0\n",
    "    points_4 = 0\n",
    "    points_5 = 0\n",
    "    points_6 = 0\n",
    "    \n",
    "    # if athlete estimated as 1st arrived 1st\n",
    "    if player.Athlete1 == results[1]:\n",
    "        points_1 = 10 \n",
    "    # if athlete estimated as 1st arrived 2nd\n",
    "    elif player.Athlete1 == results[2]:\n",
    "        points_1 = 6 \n",
    "    # if athlete estimated as 1st arrived 3rd\n",
    "    elif player.Athlete1 == results[3]:\n",
    "        points_1 = 4 \n",
    "    # if athlete estimated as 1st arrived 4th\n",
    "    elif player.Athlete1 == results[4]:\n",
    "        points_1 = 2 \n",
    "    # if athlete estimated as 1st arrived 5th\n",
    "    elif player.Athlete1 == results[5]:\n",
    "        points_1 = 1 \n",
    "        \n",
    "    # if athlete estimated as 2nd arrived 1st\n",
    "    if player.Athlete2 == results[1]:\n",
    "        points_2 = 6 \n",
    "    # if athlete estimated as 2nd arrived 2nd\n",
    "    elif player.Athlete2 == results[2]:\n",
    "        points_2 = 10 \n",
    "    # ...\n",
    "    elif player.Athlete2 == results[3]:\n",
    "        points_2 = 6 \n",
    "    elif player.Athlete2 == results[4]:\n",
    "        points_2 = 4 \n",
    "    elif player.Athlete2 == results[5]:\n",
    "        points_2 = 2 \n",
    "    elif player.Athlete2 == results[6]:\n",
    "        points_2 = 1 \n",
    " \n",
    "    if player.Athlete3 == results[1]:\n",
    "        points_3 = 4 \n",
    "    elif player.Athlete3 == results[2]:\n",
    "        points_3 = 6 \n",
    "    elif player.Athlete3 == results[3]:\n",
    "        points_3 = 10 \n",
    "    elif player.Athlete3 == results[4]:\n",
    "        points_3 = 6\n",
    "    elif player.Athlete3 == results[5]:\n",
    "        points_3 = 4 \n",
    "    elif player.Athlete3 == results[6]:\n",
    "        points_3 = 2 \n",
    "    elif player.Athlete3 == results[7]:\n",
    "        points_3 = 1 \n",
    "    \n",
    "    if player.Athlete4 == results[1]:\n",
    "        points_4 = 2 \n",
    "    elif player.Athlete4 == results[2]:\n",
    "        points_4 = 4 \n",
    "    elif player.Athlete4 == results[3]:\n",
    "        points_4 = 6 \n",
    "    elif player.Athlete4 == results[4]:\n",
    "        points_4 = 10 \n",
    "    elif player.Athlete4 == results[5]:\n",
    "        points_4 = 6 \n",
    "    elif player.Athlete4 == results[6]:\n",
    "        points_4 = 4 \n",
    "    elif player.Athlete4 == results[7]:\n",
    "        points_4 = 2 \n",
    "    elif player.Athlete4 == results[8]:\n",
    "        points_4 = 1 \n",
    "        \n",
    "    if player.Athlete5 == results[1]:\n",
    "        points_5 = 1 \n",
    "    elif player.Athlete5 == results[2]:\n",
    "        points_5 = 2 \n",
    "    elif player.Athlete5 == results[3]:\n",
    "        points_5 = 4 \n",
    "    elif player.Athlete5 == results[4]:\n",
    "        points_5 = 6\n",
    "    elif player.Athlete5 == results[5]:\n",
    "        points_5 = 10\n",
    "    elif player.Athlete5 == results[6]:\n",
    "        points_5 = 6 \n",
    "    elif player.Athlete5 == results[7]:\n",
    "        points_5 = 4 \n",
    "    elif player.Athlete5 == results[8]:\n",
    "        points_5 = 2 \n",
    "    elif player.Athlete5 == results[9]:\n",
    "        points_5 = 1 \n",
    "\n",
    "    if player.Athlete6 == results[1]:\n",
    "        points_6 = 0 \n",
    "    elif player.Athlete6 == results[2]:\n",
    "        points_6 = 1 \n",
    "    elif player.Athlete6 == results[3]:\n",
    "        points_6 = 2 \n",
    "    elif player.Athlete6 == results[4]:\n",
    "        points_6 = 4 \n",
    "    elif player.Athlete6 == results[5]:\n",
    "        points_6 = 6 \n",
    "    elif player.Athlete6 == results[6]:\n",
    "        points_6 = 10 \n",
    "    elif player.Athlete6 == results[7]:\n",
    "        points_6 = 6 \n",
    "    elif player.Athlete6 == results[8]:\n",
    "        points_6 = 4 \n",
    "    elif player.Athlete6 == results[9]:\n",
    "        points_6 = 2 \n",
    "    elif player.Athlete6 == results[10]:\n",
    "        points_6 = 1 \n",
    "         \n",
    "        \n",
    "    return points_1 + points_2 + points_3 + points_4 + points_5 + points_6\n"
   ]
  },
  {
   "cell_type": "code",
   "execution_count": 13,
   "metadata": {},
   "outputs": [
    {
     "data": {
      "text/html": [
       "<div>\n",
       "<style>\n",
       "    .dataframe thead tr:only-child th {\n",
       "        text-align: right;\n",
       "    }\n",
       "\n",
       "    .dataframe thead th {\n",
       "        text-align: left;\n",
       "    }\n",
       "\n",
       "    .dataframe tbody tr th {\n",
       "        vertical-align: top;\n",
       "    }\n",
       "</style>\n",
       "<table border=\"1\" class=\"dataframe\">\n",
       "  <thead>\n",
       "    <tr style=\"text-align: right;\">\n",
       "      <th></th>\n",
       "      <th>Player</th>\n",
       "      <th>Athlete1</th>\n",
       "      <th>Athlete2</th>\n",
       "      <th>Athlete3</th>\n",
       "      <th>Athlete4</th>\n",
       "      <th>Athlete5</th>\n",
       "      <th>Athlete6</th>\n",
       "      <th>Datetime</th>\n",
       "      <th>Points</th>\n",
       "    </tr>\n",
       "  </thead>\n",
       "  <tbody>\n",
       "    <tr>\n",
       "      <th>212</th>\n",
       "      <td>mverniau</td>\n",
       "      <td>FRO</td>\n",
       "      <td>KIE</td>\n",
       "      <td>VIE</td>\n",
       "      <td>VANL</td>\n",
       "      <td>SAN</td>\n",
       "      <td>MCN</td>\n",
       "      <td>2016-10-02 12:22:11</td>\n",
       "      <td>20</td>\n",
       "    </tr>\n",
       "  </tbody>\n",
       "</table>\n",
       "</div>"
      ],
      "text/plain": [
       "       Player Athlete1 Athlete2 Athlete3 Athlete4 Athlete5 Athlete6  \\\n",
       "212  mverniau      FRO      KIE      VIE     VANL      SAN      MCN   \n",
       "\n",
       "                Datetime  Points  \n",
       "212  2016-10-02 12:22:11      20  "
      ]
     },
     "execution_count": 13,
     "metadata": {},
     "output_type": "execute_result"
    }
   ],
   "source": [
    "# 2016 results from http://eu.ironman.com/triathlon/events/americas/ironman/world-championship/results.aspx?rd=20161008 \n",
    "results = {1:'FRO', 2:'KIE', 3:'LAN', 4:'HOF', 5:'BOE', 6:'ODO', 7:'STE', 8:'AER', 9:'RAN', 10:'VANL'}\n",
    "res = pd.Series(results)\n",
    "\n",
    "# add a column containing the obtained points for each gamer\n",
    "df['Points'] = df.apply(calculate_points, axis=1)\n",
    "\n",
    "# check list line\n",
    "df.tail(1)"
   ]
  },
  {
   "cell_type": "code",
   "execution_count": 14,
   "metadata": {},
   "outputs": [
    {
     "data": {
      "text/html": [
       "<div>\n",
       "<style>\n",
       "    .dataframe thead tr:only-child th {\n",
       "        text-align: right;\n",
       "    }\n",
       "\n",
       "    .dataframe thead th {\n",
       "        text-align: left;\n",
       "    }\n",
       "\n",
       "    .dataframe tbody tr th {\n",
       "        vertical-align: top;\n",
       "    }\n",
       "</style>\n",
       "<table border=\"1\" class=\"dataframe\">\n",
       "  <thead>\n",
       "    <tr style=\"text-align: right;\">\n",
       "      <th></th>\n",
       "      <th>Player</th>\n",
       "      <th>Athlete1</th>\n",
       "      <th>Athlete2</th>\n",
       "      <th>Athlete3</th>\n",
       "      <th>Athlete4</th>\n",
       "      <th>Athlete5</th>\n",
       "      <th>Athlete6</th>\n",
       "      <th>Datetime</th>\n",
       "      <th>Points</th>\n",
       "    </tr>\n",
       "  </thead>\n",
       "  <tbody>\n",
       "    <tr>\n",
       "      <th>0</th>\n",
       "      <td>Matt</td>\n",
       "      <td>FRO</td>\n",
       "      <td>KIE</td>\n",
       "      <td>VIE</td>\n",
       "      <td>HOF</td>\n",
       "      <td>STE</td>\n",
       "      <td>AER</td>\n",
       "      <td>2016-10-02 12:41:45</td>\n",
       "      <td>38</td>\n",
       "    </tr>\n",
       "    <tr>\n",
       "      <th>1</th>\n",
       "      <td>Guillaume Belgy</td>\n",
       "      <td>FRO</td>\n",
       "      <td>KIE</td>\n",
       "      <td>VANL</td>\n",
       "      <td>HOF</td>\n",
       "      <td>ODO</td>\n",
       "      <td>VIE</td>\n",
       "      <td>2016-10-03 07:56:35</td>\n",
       "      <td>36</td>\n",
       "    </tr>\n",
       "    <tr>\n",
       "      <th>2</th>\n",
       "      <td>max</td>\n",
       "      <td>FRO</td>\n",
       "      <td>KIE</td>\n",
       "      <td>HOF</td>\n",
       "      <td>RAE</td>\n",
       "      <td>BOE</td>\n",
       "      <td>VIE</td>\n",
       "      <td>2016-10-02 15:17:56</td>\n",
       "      <td>36</td>\n",
       "    </tr>\n",
       "    <tr>\n",
       "      <th>3</th>\n",
       "      <td>dff</td>\n",
       "      <td>FRO</td>\n",
       "      <td>KIE</td>\n",
       "      <td>VIE</td>\n",
       "      <td>RAE</td>\n",
       "      <td>ODO</td>\n",
       "      <td>STE</td>\n",
       "      <td>2016-10-04 12:31:01</td>\n",
       "      <td>32</td>\n",
       "    </tr>\n",
       "    <tr>\n",
       "      <th>4</th>\n",
       "      <td>JOFFRE</td>\n",
       "      <td>FRO</td>\n",
       "      <td>KIE</td>\n",
       "      <td>VIE</td>\n",
       "      <td>VANL</td>\n",
       "      <td>HOF</td>\n",
       "      <td>STE</td>\n",
       "      <td>2016-10-02 13:15:30</td>\n",
       "      <td>32</td>\n",
       "    </tr>\n",
       "    <tr>\n",
       "      <th>5</th>\n",
       "      <td>Henry matthieu</td>\n",
       "      <td>FRO</td>\n",
       "      <td>KIE</td>\n",
       "      <td>VIE</td>\n",
       "      <td>ODO</td>\n",
       "      <td>HOF</td>\n",
       "      <td>VANL</td>\n",
       "      <td>2016-10-02 12:26:07</td>\n",
       "      <td>31</td>\n",
       "    </tr>\n",
       "    <tr>\n",
       "      <th>6</th>\n",
       "      <td>Nicolas ZAMBON</td>\n",
       "      <td>FRO</td>\n",
       "      <td>KIE</td>\n",
       "      <td>BUTT</td>\n",
       "      <td>HOF</td>\n",
       "      <td>WEI</td>\n",
       "      <td>VIE</td>\n",
       "      <td>2016-10-02 18:26:26</td>\n",
       "      <td>30</td>\n",
       "    </tr>\n",
       "    <tr>\n",
       "      <th>7</th>\n",
       "      <td>Eric</td>\n",
       "      <td>FRO</td>\n",
       "      <td>KIE</td>\n",
       "      <td>CHE</td>\n",
       "      <td>HOF</td>\n",
       "      <td>RAE</td>\n",
       "      <td>VIE</td>\n",
       "      <td>2016-10-03 13:23:26</td>\n",
       "      <td>30</td>\n",
       "    </tr>\n",
       "    <tr>\n",
       "      <th>8</th>\n",
       "      <td>Balestreri</td>\n",
       "      <td>FRO</td>\n",
       "      <td>KIE</td>\n",
       "      <td>WEI</td>\n",
       "      <td>BOE</td>\n",
       "      <td>STE</td>\n",
       "      <td>CUN</td>\n",
       "      <td>2016-10-03 00:37:37</td>\n",
       "      <td>30</td>\n",
       "    </tr>\n",
       "    <tr>\n",
       "      <th>9</th>\n",
       "      <td>TriRating</td>\n",
       "      <td>FRO</td>\n",
       "      <td>KIE</td>\n",
       "      <td>RAE</td>\n",
       "      <td>MCM</td>\n",
       "      <td>POTT</td>\n",
       "      <td>ODO</td>\n",
       "      <td>2017-10-11 08:30:00</td>\n",
       "      <td>30</td>\n",
       "    </tr>\n",
       "    <tr>\n",
       "      <th>10</th>\n",
       "      <td>Franck Martin</td>\n",
       "      <td>FRO</td>\n",
       "      <td>HOF</td>\n",
       "      <td>KIE</td>\n",
       "      <td>RAE</td>\n",
       "      <td>VANL</td>\n",
       "      <td>ODO</td>\n",
       "      <td>2016-10-03 02:34:33</td>\n",
       "      <td>30</td>\n",
       "    </tr>\n",
       "    <tr>\n",
       "      <th>11</th>\n",
       "      <td>Nicolas VIOLLAND</td>\n",
       "      <td>FRO</td>\n",
       "      <td>KIE</td>\n",
       "      <td>VIE</td>\n",
       "      <td>CUN</td>\n",
       "      <td>ODO</td>\n",
       "      <td>HOF</td>\n",
       "      <td>2016-10-03 02:31:09</td>\n",
       "      <td>30</td>\n",
       "    </tr>\n",
       "    <tr>\n",
       "      <th>12</th>\n",
       "      <td>Luneau</td>\n",
       "      <td>FRO</td>\n",
       "      <td>KIE</td>\n",
       "      <td>VANL</td>\n",
       "      <td>VIE</td>\n",
       "      <td>BOE</td>\n",
       "      <td>RAE</td>\n",
       "      <td>2016-10-02 12:35:32</td>\n",
       "      <td>30</td>\n",
       "    </tr>\n",
       "    <tr>\n",
       "      <th>13</th>\n",
       "      <td>Bouisson JÃ©rÃ©my</td>\n",
       "      <td>FRO</td>\n",
       "      <td>RAE</td>\n",
       "      <td>KIE</td>\n",
       "      <td>BUTT</td>\n",
       "      <td>ODO</td>\n",
       "      <td>STE</td>\n",
       "      <td>2016-10-02 14:30:54</td>\n",
       "      <td>28</td>\n",
       "    </tr>\n",
       "    <tr>\n",
       "      <th>14</th>\n",
       "      <td>Pour l'autre</td>\n",
       "      <td>KIE</td>\n",
       "      <td>HOF</td>\n",
       "      <td>FRO</td>\n",
       "      <td>CUN</td>\n",
       "      <td>LAN</td>\n",
       "      <td>ODO</td>\n",
       "      <td>2016-10-03 00:21:37</td>\n",
       "      <td>28</td>\n",
       "    </tr>\n",
       "  </tbody>\n",
       "</table>\n",
       "</div>"
      ],
      "text/plain": [
       "               Player Athlete1 Athlete2 Athlete3 Athlete4 Athlete5 Athlete6  \\\n",
       "0                Matt      FRO      KIE      VIE      HOF      STE      AER   \n",
       "1     Guillaume Belgy      FRO      KIE     VANL      HOF      ODO      VIE   \n",
       "2                 max      FRO      KIE      HOF      RAE      BOE      VIE   \n",
       "3                 dff      FRO      KIE      VIE      RAE      ODO      STE   \n",
       "4              JOFFRE      FRO      KIE      VIE     VANL      HOF      STE   \n",
       "5      Henry matthieu      FRO      KIE      VIE      ODO      HOF     VANL   \n",
       "6      Nicolas ZAMBON      FRO      KIE     BUTT      HOF      WEI      VIE   \n",
       "7                Eric      FRO      KIE      CHE      HOF      RAE      VIE   \n",
       "8          Balestreri      FRO      KIE      WEI      BOE      STE      CUN   \n",
       "9           TriRating      FRO      KIE      RAE      MCM     POTT      ODO   \n",
       "10      Franck Martin      FRO      HOF      KIE      RAE     VANL      ODO   \n",
       "11   Nicolas VIOLLAND      FRO      KIE      VIE      CUN      ODO      HOF   \n",
       "12             Luneau      FRO      KIE     VANL      VIE      BOE      RAE   \n",
       "13  Bouisson JÃ©rÃ©my      FRO      RAE      KIE     BUTT      ODO      STE   \n",
       "14       Pour l'autre      KIE      HOF      FRO      CUN      LAN      ODO   \n",
       "\n",
       "               Datetime  Points  \n",
       "0   2016-10-02 12:41:45      38  \n",
       "1   2016-10-03 07:56:35      36  \n",
       "2   2016-10-02 15:17:56      36  \n",
       "3   2016-10-04 12:31:01      32  \n",
       "4   2016-10-02 13:15:30      32  \n",
       "5   2016-10-02 12:26:07      31  \n",
       "6   2016-10-02 18:26:26      30  \n",
       "7   2016-10-03 13:23:26      30  \n",
       "8   2016-10-03 00:37:37      30  \n",
       "9   2017-10-11 08:30:00      30  \n",
       "10  2016-10-03 02:34:33      30  \n",
       "11  2016-10-03 02:31:09      30  \n",
       "12  2016-10-02 12:35:32      30  \n",
       "13  2016-10-02 14:30:54      28  \n",
       "14  2016-10-03 00:21:37      28  "
      ]
     },
     "execution_count": 14,
     "metadata": {},
     "output_type": "execute_result"
    }
   ],
   "source": [
    "# sort the lines of players by decreasing order of Points (i.e. winner in first line)\n",
    "df = df.sort_values(by ='Points', ascending=False)\n",
    "\n",
    "# reset index of the line so that the index (aka \"first hidden column\") represents the final ranking\n",
    "df = df.reset_index(drop=True)\n",
    "\n",
    "# display the best 15 players (still decreasing order)\n",
    "df.head(15)"
   ]
  },
  {
   "cell_type": "code",
   "execution_count": 15,
   "metadata": {},
   "outputs": [
    {
     "data": {
      "text/html": [
       "<div>\n",
       "<style>\n",
       "    .dataframe thead tr:only-child th {\n",
       "        text-align: right;\n",
       "    }\n",
       "\n",
       "    .dataframe thead th {\n",
       "        text-align: left;\n",
       "    }\n",
       "\n",
       "    .dataframe tbody tr th {\n",
       "        vertical-align: top;\n",
       "    }\n",
       "</style>\n",
       "<table border=\"1\" class=\"dataframe\">\n",
       "  <thead>\n",
       "    <tr style=\"text-align: right;\">\n",
       "      <th></th>\n",
       "      <th>Player</th>\n",
       "      <th>Athlete1</th>\n",
       "      <th>Athlete2</th>\n",
       "      <th>Athlete3</th>\n",
       "      <th>Athlete4</th>\n",
       "      <th>Athlete5</th>\n",
       "      <th>Athlete6</th>\n",
       "      <th>Datetime</th>\n",
       "      <th>Points</th>\n",
       "    </tr>\n",
       "  </thead>\n",
       "  <tbody>\n",
       "    <tr>\n",
       "      <th>9</th>\n",
       "      <td>TriRating</td>\n",
       "      <td>FRO</td>\n",
       "      <td>KIE</td>\n",
       "      <td>RAE</td>\n",
       "      <td>MCM</td>\n",
       "      <td>POTT</td>\n",
       "      <td>ODO</td>\n",
       "      <td>2017-10-11 08:30:00</td>\n",
       "      <td>30</td>\n",
       "    </tr>\n",
       "  </tbody>\n",
       "</table>\n",
       "</div>"
      ],
      "text/plain": [
       "      Player Athlete1 Athlete2 Athlete3 Athlete4 Athlete5 Athlete6  \\\n",
       "9  TriRating      FRO      KIE      RAE      MCM     POTT      ODO   \n",
       "\n",
       "              Datetime  Points  \n",
       "9  2017-10-11 08:30:00      30  "
      ]
     },
     "execution_count": 15,
     "metadata": {},
     "output_type": "execute_result"
    }
   ],
   "source": [
    "# Display the ranking of 'TriRating' prognostic\n",
    "df[df.Player == 'TriRating']\n",
    "# It shows that TriRating prognostic was in the top-10"
   ]
  },
  {
   "cell_type": "code",
   "execution_count": 16,
   "metadata": {},
   "outputs": [
    {
     "data": {
      "text/plain": [
       "213"
      ]
     },
     "execution_count": 16,
     "metadata": {},
     "output_type": "execute_result"
    }
   ],
   "source": [
    "# display the total number of players (same as number of lines in the input file)\n",
    "df.shape[0]"
   ]
  },
  {
   "cell_type": "code",
   "execution_count": 17,
   "metadata": {
    "collapsed": true
   },
   "outputs": [],
   "source": [
    "# save resuts within a CSV file\n",
    "file2 = \"2016_kona_pronostics_classement.csv\"\n",
    "df.to_csv(file2, sep=';', encoding = \"ISO-8859-1\", index=False)"
   ]
  }
 ],
 "metadata": {
  "kernelspec": {
   "display_name": "Python 3",
   "language": "python",
   "name": "python3"
  },
  "language_info": {
   "codemirror_mode": {
    "name": "ipython",
    "version": 3
   },
   "file_extension": ".py",
   "mimetype": "text/x-python",
   "name": "python",
   "nbconvert_exporter": "python",
   "pygments_lexer": "ipython3",
   "version": "3.6.1"
  }
 },
 "nbformat": 4,
 "nbformat_minor": 2
}

