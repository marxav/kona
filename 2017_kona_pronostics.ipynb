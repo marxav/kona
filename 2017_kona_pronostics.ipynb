{
 "cells": [
  {
   "cell_type": "markdown",
   "metadata": {},
   "source": [
    "# Etude des pronos de Kona 2017"
   ]
  },
  {
   "cell_type": "markdown",
   "metadata": {},
   "source": [
    "Cette page aide à traiter les pronos Trimes pour Kona 2017"
   ]
  },
  {
   "cell_type": "markdown",
   "metadata": {},
   "source": [
    "## Partie 1 : Affichage des pronostics"
   ]
  },
  {
   "cell_type": "code",
   "execution_count": 1,
   "metadata": {
    "collapsed": true
   },
   "outputs": [],
   "source": [
    "# Importer des fabuleuses librairies Python Pandas et Matplolib\n",
    "import pandas as pd\n",
    "%matplotlib inline"
   ]
  },
  {
   "cell_type": "code",
   "execution_count": 2,
   "metadata": {},
   "outputs": [],
   "source": [
    "# Ouverture du fichier contenant les votes (sans les adresses mail)\n",
    "file = \"2017_kona_pronostics.csv\"\n",
    "df = pd.read_csv(file, delimiter=';', encoding = \"ISO-8859-1\")"
   ]
  },
  {
   "cell_type": "code",
   "execution_count": 3,
   "metadata": {},
   "outputs": [
    {
     "data": {
      "text/plain": [
       "188"
      ]
     },
     "execution_count": 3,
     "metadata": {},
     "output_type": "execute_result"
    }
   ],
   "source": [
    "# Affichage du nombre de joueurs\n",
    "df.shape[0]"
   ]
  },
  {
   "cell_type": "code",
   "execution_count": 4,
   "metadata": {},
   "outputs": [
    {
     "data": {
      "text/plain": [
       "FRO    0.686170\n",
       "SAN    0.132979\n",
       "FVL    0.079787\n",
       "KIE    0.053191\n",
       "LAN    0.021277\n",
       "HOF    0.010638\n",
       "CUN    0.005319\n",
       "AER    0.005319\n",
       "DON    0.005319\n",
       "Name: Athlete1, dtype: float64"
      ]
     },
     "execution_count": 4,
     "metadata": {},
     "output_type": "execute_result"
    }
   ],
   "source": [
    "# Affichage des pronostics pour la 1ère place\n",
    "# Pour garder la liste courte, seuls les 10 athlètes les plus souvent cités sont affichés\n",
    "df.Athlete1.value_counts(normalize=True).head(10)"
   ]
  },
  {
   "cell_type": "code",
   "execution_count": 5,
   "metadata": {},
   "outputs": [
    {
     "data": {
      "text/plain": [
       "<matplotlib.axes._subplots.AxesSubplot at 0x99ef710>"
      ]
     },
     "execution_count": 5,
     "metadata": {},
     "output_type": "execute_result"
    },
    {
     "data": {
      "image/png": "[encoded data removed]",
      "text/plain": [
       "<matplotlib.figure.Figure at 0x99a9e80>"
      ]
     },
     "metadata": {},
     "output_type": "display_data"
    }
   ],
   "source": [
    "# Idem, Affichage des pronostics pour la 1ère place, mais sous forme de graphique \n",
    "df.Athlete1.value_counts(normalize=True).plot(kind='pie')"
   ]
  },
  {
   "cell_type": "code",
   "execution_count": 6,
   "metadata": {},
   "outputs": [
    {
     "data": {
      "text/plain": [
       "SAN    0.292553\n",
       "KIE    0.218085\n",
       "FRO    0.186170\n",
       "FVL    0.148936\n",
       "HOF    0.037234\n",
       "DON    0.026596\n",
       "LAN    0.021277\n",
       "CUN    0.015957\n",
       "MCM    0.015957\n",
       "ODO    0.010638\n",
       "Name: Athlete2, dtype: float64"
      ]
     },
     "execution_count": 6,
     "metadata": {},
     "output_type": "execute_result"
    }
   ],
   "source": [
    "# Affichage des pronostics pour la 2ème place\n",
    "df.Athlete2.value_counts(normalize=True).head(10)"
   ]
  },
  {
   "cell_type": "code",
   "execution_count": 7,
   "metadata": {},
   "outputs": [
    {
     "data": {
      "text/plain": [
       "KIE    0.292553\n",
       "SAN    0.164894\n",
       "FVL    0.154255\n",
       "VIE    0.074468\n",
       "HOF    0.069149\n",
       "DON    0.063830\n",
       "FRO    0.058511\n",
       "LAN    0.031915\n",
       "AER    0.015957\n",
       "ODO    0.015957\n",
       "Name: Athlete3, dtype: float64"
      ]
     },
     "execution_count": 7,
     "metadata": {},
     "output_type": "execute_result"
    }
   ],
   "source": [
    "# Affichage des pronostics pour la 3ème place\n",
    "df.Athlete3.value_counts(normalize=True).head(10)"
   ]
  },
  {
   "cell_type": "code",
   "execution_count": 8,
   "metadata": {},
   "outputs": [
    {
     "data": {
      "text/plain": [
       "KIE    0.207447\n",
       "FVL    0.127660\n",
       "VIE    0.122340\n",
       "SAN    0.106383\n",
       "AER    0.095745\n",
       "HOF    0.058511\n",
       "POT    0.047872\n",
       "DON    0.031915\n",
       "LAN    0.026596\n",
       "ODO    0.021277\n",
       "Name: Athlete4, dtype: float64"
      ]
     },
     "execution_count": 8,
     "metadata": {},
     "output_type": "execute_result"
    }
   ],
   "source": [
    "# Affichage des pronostics pour la 4ème place\n",
    "df.Athlete4.value_counts(normalize=True).head(10)"
   ]
  },
  {
   "cell_type": "code",
   "execution_count": 9,
   "metadata": {},
   "outputs": [
    {
     "data": {
      "text/plain": [
       "VIE     0.117021\n",
       "KIE     0.101064\n",
       "FVL     0.095745\n",
       "SAN     0.085106\n",
       "DON     0.085106\n",
       "AER     0.079787\n",
       "HOF     0.079787\n",
       "LAN     0.053191\n",
       "CHEV    0.031915\n",
       "BOZ     0.026596\n",
       "Name: Athlete5, dtype: float64"
      ]
     },
     "execution_count": 9,
     "metadata": {},
     "output_type": "execute_result"
    }
   ],
   "source": [
    "# Affichage des pronostics pour la 5ème place\n",
    "df.Athlete5.value_counts(normalize=True).head(10)"
   ]
  },
  {
   "cell_type": "code",
   "execution_count": 10,
   "metadata": {},
   "outputs": [
    {
     "data": {
      "text/plain": [
       "VIE     0.132979\n",
       "DON     0.111702\n",
       "FVL     0.085106\n",
       "HOF     0.074468\n",
       "CHEV    0.069149\n",
       "AER     0.047872\n",
       "KIE     0.042553\n",
       "ODO     0.042553\n",
       "SAN     0.037234\n",
       "POT     0.037234\n",
       "Name: Athlete6, dtype: float64"
      ]
     },
     "execution_count": 10,
     "metadata": {},
     "output_type": "execute_result"
    }
   ],
   "source": [
    "# Affichage des pronostics pour la 6ème place\n",
    "df.Athlete6.value_counts(normalize=True).head(10)"
   ]
  },
  {
   "cell_type": "markdown",
   "metadata": {
    "collapsed": true
   },
   "source": [
    "## Partie 2 : Algorithme du calcul des points"
   ]
  },
  {
   "cell_type": "markdown",
   "metadata": {},
   "source": [
    "Les règles étaient annoncées comme étant simple. \n",
    "* 10 points par bonne position.\n",
    "* 6 points pour 1 athlète qui termine à 1 place de ton pronostic.\n",
    "* 4 points pour 1 athlète qui termine à 2 places de ton pronostic.\n",
    "* 2 points pour 1 athlète qui termine à 3 places de ton pronostic.\n",
    "* 1 point pour 1 athlète qui termine à 4 places de ton pronostic.\n",
    "\n",
    "En mettant ça en lignes de code, on voit que ça demande quelques lignes de code quand même et que l'on est encore loin des régles formulée en language naturel !"
   ]
  },
  {
   "cell_type": "code",
   "execution_count": 11,
   "metadata": {
    "collapsed": true
   },
   "outputs": [],
   "source": [
    "def calculate_points(player):\n",
    "    \n",
    "    points_1 = 0\n",
    "    points_2 = 0\n",
    "    points_3 = 0\n",
    "    points_4 = 0\n",
    "    points_5 = 0\n",
    "    points_6 = 0\n",
    "    \n",
    "    # if athlete estimated as 1st arrived 1st\n",
    "    if player.Athlete1 == results[1]:\n",
    "        points_1 = 10 \n",
    "    # if athlete estimated as 1st arrived 2nd\n",
    "    elif player.Athlete1 == results[2]:\n",
    "        points_1 = 6 \n",
    "    # if athlete estimated as 1st arrived 3rd\n",
    "    elif player.Athlete1 == results[3]:\n",
    "        points_1 = 4 \n",
    "    # if athlete estimated as 1st arrived 4th\n",
    "    elif player.Athlete1 == results[4]:\n",
    "        points_1 = 2 \n",
    "    # if athlete estimated as 1st arrived 5th\n",
    "    elif player.Athlete1 == results[5]:\n",
    "        points_1 = 1 \n",
    "        \n",
    "    # if athlete estimated as 2nd arrived 1st\n",
    "    if player.Athlete2 == results[1]:\n",
    "        points_2 = 6 \n",
    "    # if athlete estimated as 2nd arrived 2nd\n",
    "    elif player.Athlete2 == results[2]:\n",
    "        points_2 = 10 \n",
    "    # ...\n",
    "    elif player.Athlete2 == results[3]:\n",
    "        points_2 = 6 \n",
    "    elif player.Athlete2 == results[4]:\n",
    "        points_2 = 4 \n",
    "    elif player.Athlete2 == results[5]:\n",
    "        points_2 = 2 \n",
    "    elif player.Athlete2 == results[6]:\n",
    "        points_2 = 1 \n",
    " \n",
    "    if player.Athlete3 == results[1]:\n",
    "        points_3 = 4 \n",
    "    elif player.Athlete3 == results[2]:\n",
    "        points_3 = 6 \n",
    "    elif player.Athlete3 == results[3]:\n",
    "        points_3 = 10 \n",
    "    elif player.Athlete3 == results[4]:\n",
    "        points_3 = 6\n",
    "    elif player.Athlete3 == results[5]:\n",
    "        points_3 = 4 \n",
    "    elif player.Athlete3 == results[6]:\n",
    "        points_3 = 2 \n",
    "    elif player.Athlete3 == results[7]:\n",
    "        points_3 = 1 \n",
    "    \n",
    "    if player.Athlete4 == results[1]:\n",
    "        points_4 = 2 \n",
    "    elif player.Athlete4 == results[2]:\n",
    "        points_4 = 4 \n",
    "    elif player.Athlete4 == results[3]:\n",
    "        points_4 = 6 \n",
    "    elif player.Athlete4 == results[4]:\n",
    "        points_4 = 10 \n",
    "    elif player.Athlete4 == results[5]:\n",
    "        points_4 = 6 \n",
    "    elif player.Athlete4 == results[6]:\n",
    "        points_4 = 4 \n",
    "    elif player.Athlete4 == results[7]:\n",
    "        points_4 = 2 \n",
    "    elif player.Athlete4 == results[8]:\n",
    "        points_4 = 1 \n",
    "        \n",
    "    if player.Athlete5 == results[1]:\n",
    "        points_5 = 1 \n",
    "    elif player.Athlete5 == results[2]:\n",
    "        points_5 = 2 \n",
    "    elif player.Athlete5 == results[3]:\n",
    "        points_5 = 4 \n",
    "    elif player.Athlete5 == results[4]:\n",
    "        points_5 = 6\n",
    "    elif player.Athlete5 == results[5]:\n",
    "        points_5 = 10\n",
    "    elif player.Athlete5 == results[6]:\n",
    "        points_5 = 6 \n",
    "    elif player.Athlete5 == results[7]:\n",
    "        points_5 = 4 \n",
    "    elif player.Athlete5 == results[8]:\n",
    "        points_5 = 2 \n",
    "    elif player.Athlete5 == results[9]:\n",
    "        points_5 = 1 \n",
    "\n",
    "    if player.Athlete6 == results[1]:\n",
    "        points_6 = 0 \n",
    "    elif player.Athlete6 == results[2]:\n",
    "        points_6 = 1 \n",
    "    elif player.Athlete6 == results[3]:\n",
    "        points_6 = 2 \n",
    "    elif player.Athlete6 == results[4]:\n",
    "        points_6 = 4 \n",
    "    elif player.Athlete6 == results[5]:\n",
    "        points_6 = 6 \n",
    "    elif player.Athlete6 == results[6]:\n",
    "        points_6 = 10 \n",
    "    elif player.Athlete6 == results[7]:\n",
    "        points_6 = 6 \n",
    "    elif player.Athlete6 == results[8]:\n",
    "        points_6 = 4 \n",
    "    elif player.Athlete6 == results[9]:\n",
    "        points_6 = 2 \n",
    "    elif player.Athlete6 == results[10]:\n",
    "        points_6 = 1 \n",
    "         \n",
    "        \n",
    "    return points_1 + points_2 + points_3 + points_4 + points_5 + points_6\n"
   ]
  },
  {
   "cell_type": "markdown",
   "metadata": {},
   "source": [
    "## Partie 3 : Résultat des pronostiques"
   ]
  },
  {
   "cell_type": "markdown",
   "metadata": {},
   "source": [
    "Dimanche, il faudra recopier les résultats officiels des 10 premiers PRO hommes publiés sur http://eu.ironman.com/triathlon/events/americas/ironman/world-championship/results.aspx?rd=20171014 "
   ]
  },
  {
   "cell_type": "code",
   "execution_count": null,
   "metadata": {
    "collapsed": true
   },
   "outputs": [],
   "source": [
    "#results = {1:'FRO', 2:'KIE', 3:'LAN', 4:'HOF', 5:'BOE', 6:'ODO', 7:'STE', 8:'AER', 9:'RAN', 10:'VANL'}\n",
    "results = { ... A REMPLIR DIMANCHE APRES L'IM HAWAII ... }\n",
    "res = pd.Series(results)"
   ]
  },
  {
   "cell_type": "code",
   "execution_count": null,
   "metadata": {},
   "outputs": [],
   "source": [
    "# Pour chaque joueur, calcul le nombre de Points issu de son pronostic à l'aide de l'algo calculate_points\n",
    "df['Points'] = df.apply(calculate_points, axis=1)\n",
    "\n",
    "# Ensuite, tri des joueurs par ordre décroissant des Points (i.e. le gagnant sera sur la 1ère ligne)\n",
    "df = df.sort_values(by ='Points', ascending=False)\n",
    "\n",
    "# sombre détail technique, reset de l'index de chaque joueur\n",
    "# pour que l'index affiché corresponde à l'ordre des gagnants.\n",
    "# ... il y aura un décalage de 1 en fait car l'index commence à 0\n",
    "df = df.reset_index(drop=True)\n",
    "\n",
    "# Affichage des 10 meilleurs pronostics\n",
    "df.head(10)"
   ]
  },
  {
   "cell_type": "code",
   "execution_count": null,
   "metadata": {},
   "outputs": [],
   "source": [
    "# Affichage du score obtenu par le célèbre 'TriRating' \n",
    "df[df.Player == 'TriRating']"
   ]
  },
  {
   "cell_type": "code",
   "execution_count": null,
   "metadata": {
    "collapsed": true
   },
   "outputs": [],
   "source": [
    "# Pour la postérité, sauvegardons les résultats complets dans un fichier\n",
    "file2 = \"2017_kona_pronostics_classement.csv\"\n",
    "df.to_csv(file2, sep=';', encoding = \"ISO-8859-1\", index=False)"
   ]
  }
 ],
 "metadata": {
  "kernelspec": {
   "display_name": "Python 3",
   "language": "python",
   "name": "python3"
  },
  "language_info": {
   "codemirror_mode": {
    "name": "ipython",
    "version": 3
   },
   "file_extension": ".py",
   "mimetype": "text/x-python",
   "name": "python",
   "nbconvert_exporter": "python",
   "pygments_lexer": "ipython3",
   "version": "3.6.1"
  }
 },
 "nbformat": 4,
 "nbformat_minor": 2
}

