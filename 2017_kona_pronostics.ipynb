{
 "cells": [
  {
   "cell_type": "markdown",
   "metadata": {},
   "source": [
    "# Etude des pronos de Kona 2017"
   ]
  },
  {
   "cell_type": "markdown",
   "metadata": {},
   "source": [
    "Cette page aide à traiter les pronos Trimes pour Kona 2017"
   ]
  },
  {
   "cell_type": "markdown",
   "metadata": {},
   "source": [
    "## Partie 1 : Affichage des pronostics"
   ]
  },
  {
   "cell_type": "code",
   "execution_count": 1,
   "metadata": {
    "collapsed": true
   },
   "outputs": [],
   "source": [
    "# Importer des fabuleuses librairies Python Pandas et Matplolib\n",
    "import pandas as pd\n",
    "%matplotlib inline"
   ]
  },
  {
   "cell_type": "code",
   "execution_count": 2,
   "metadata": {
    "collapsed": true
   },
   "outputs": [],
   "source": [
    "# Ouverture du fichier contenant les votes (sans les adresses mail)\n",
    "file = \"2017_kona_pronostics.csv\"\n",
    "df = pd.read_csv(file, delimiter=';', encoding = \"ISO-8859-1\")"
   ]
  },
  {
   "cell_type": "code",
   "execution_count": 3,
   "metadata": {},
   "outputs": [
    {
     "data": {
      "text/plain": [
       "221"
      ]
     },
     "execution_count": 3,
     "metadata": {},
     "output_type": "execute_result"
    }
   ],
   "source": [
    "# Affichage du nombre de joueurs\n",
    "df.shape[0]"
   ]
  },
  {
   "cell_type": "code",
   "execution_count": 4,
   "metadata": {},
   "outputs": [
    {
     "data": {
      "text/plain": [
       "FRO    0.678733\n",
       "SAN    0.126697\n",
       "FVL    0.085973\n",
       "KIE    0.054299\n",
       "LAN    0.031674\n",
       "HOF    0.009050\n",
       "CUN    0.004525\n",
       "DON    0.004525\n",
       "AER    0.004525\n",
       "Name: Athlete1, dtype: float64"
      ]
     },
     "execution_count": 4,
     "metadata": {},
     "output_type": "execute_result"
    }
   ],
   "source": [
    "# Affichage des pronostics pour la 1ère place\n",
    "# Pour garder la liste courte, seuls les 10 athlètes les plus souvent cités sont affichés\n",
    "df.Athlete1.value_counts(normalize=True).head(10)"
   ]
  },
  {
   "cell_type": "code",
   "execution_count": 5,
   "metadata": {},
   "outputs": [
    {
     "data": {
      "text/plain": [
       "<matplotlib.axes._subplots.AxesSubplot at 0x99dbbe0>"
      ]
     },
     "execution_count": 5,
     "metadata": {},
     "output_type": "execute_result"
    },
    {
     "data": {
      "image/png": "[encoded data removed]",
      "text/plain": [
       "<matplotlib.figure.Figure at 0x99db4a8>"
      ]
     },
     "metadata": {},
     "output_type": "display_data"
    }
   ],
   "source": [
    "# Idem, Affichage des pronostics pour la 1ère place, mais sous forme de graphique \n",
    "df.Athlete1.value_counts(normalize=True).plot(kind='pie')"
   ]
  },
  {
   "cell_type": "code",
   "execution_count": 6,
   "metadata": {},
   "outputs": [
    {
     "data": {
      "text/plain": [
       "SAN    0.266968\n",
       "KIE    0.226244\n",
       "FRO    0.190045\n",
       "FVL    0.131222\n",
       "LAN    0.040724\n",
       "HOF    0.036199\n",
       "DON    0.027149\n",
       "CUN    0.018100\n",
       "MCM    0.018100\n",
       "VIE    0.013575\n",
       "Name: Athlete2, dtype: float64"
      ]
     },
     "execution_count": 6,
     "metadata": {},
     "output_type": "execute_result"
    }
   ],
   "source": [
    "# Affichage des pronostics pour la 2ème place\n",
    "df.Athlete2.value_counts(normalize=True).head(10)"
   ]
  },
  {
   "cell_type": "code",
   "execution_count": 7,
   "metadata": {},
   "outputs": [
    {
     "data": {
      "text/plain": [
       "KIE     0.298643\n",
       "SAN     0.171946\n",
       "FVL     0.158371\n",
       "VIE     0.067873\n",
       "FRO     0.063348\n",
       "HOF     0.058824\n",
       "DON     0.054299\n",
       "LAN     0.040724\n",
       "AER     0.013575\n",
       "CHEV    0.013575\n",
       "Name: Athlete3, dtype: float64"
      ]
     },
     "execution_count": 7,
     "metadata": {},
     "output_type": "execute_result"
    }
   ],
   "source": [
    "# Affichage des pronostics pour la 3ème place\n",
    "df.Athlete3.value_counts(normalize=True).head(10)"
   ]
  },
  {
   "cell_type": "code",
   "execution_count": 8,
   "metadata": {},
   "outputs": [
    {
     "data": {
      "text/plain": [
       "KIE    0.199095\n",
       "FVL    0.135747\n",
       "VIE    0.113122\n",
       "SAN    0.104072\n",
       "AER    0.090498\n",
       "HOF    0.067873\n",
       "LAN    0.045249\n",
       "POT    0.040724\n",
       "DON    0.031674\n",
       "CUN    0.022624\n",
       "Name: Athlete4, dtype: float64"
      ]
     },
     "execution_count": 8,
     "metadata": {},
     "output_type": "execute_result"
    }
   ],
   "source": [
    "# Affichage des pronostics pour la 4ème place\n",
    "df.Athlete4.value_counts(normalize=True).head(10)"
   ]
  },
  {
   "cell_type": "code",
   "execution_count": 9,
   "metadata": {},
   "outputs": [
    {
     "data": {
      "text/plain": [
       "VIE    0.117647\n",
       "KIE    0.099548\n",
       "FVL    0.095023\n",
       "HOF    0.095023\n",
       "AER    0.081448\n",
       "SAN    0.081448\n",
       "DON    0.072398\n",
       "LAN    0.067873\n",
       "BOZ    0.027149\n",
       "STE    0.027149\n",
       "Name: Athlete5, dtype: float64"
      ]
     },
     "execution_count": 9,
     "metadata": {},
     "output_type": "execute_result"
    }
   ],
   "source": [
    "# Affichage des pronostics pour la 5ème place\n",
    "df.Athlete5.value_counts(normalize=True).head(10)"
   ]
  },
  {
   "cell_type": "code",
   "execution_count": 10,
   "metadata": {},
   "outputs": [
    {
     "data": {
      "text/plain": [
       "VIE     0.135747\n",
       "FVL     0.095023\n",
       "DON     0.095023\n",
       "CHEV    0.081448\n",
       "HOF     0.063348\n",
       "AER     0.049774\n",
       "POT     0.045249\n",
       "ODO     0.045249\n",
       "KIE     0.040724\n",
       "SAN     0.040724\n",
       "Name: Athlete6, dtype: float64"
      ]
     },
     "execution_count": 10,
     "metadata": {},
     "output_type": "execute_result"
    }
   ],
   "source": [
    "# Affichage des pronostics pour la 6ème place\n",
    "df.Athlete6.value_counts(normalize=True).head(10)"
   ]
  },
  {
   "cell_type": "markdown",
   "metadata": {
    "collapsed": true
   },
   "source": [
    "## Partie 2 : Algorithme du calcul des points"
   ]
  },
  {
   "cell_type": "markdown",
   "metadata": {},
   "source": [
    "Les règles étaient annoncées comme étant simple. \n",
    "* 10 points par bonne position.\n",
    "* 6 points pour 1 athlète qui termine à 1 place de ton pronostic.\n",
    "* 4 points pour 1 athlète qui termine à 2 places de ton pronostic.\n",
    "* 2 points pour 1 athlète qui termine à 3 places de ton pronostic.\n",
    "* 1 point pour 1 athlète qui termine à 4 places de ton pronostic.\n",
    "\n",
    "En mettant ça en lignes de code, on voit que ça demande quelques lignes de code quand même et que l'on est encore loin des régles formulée en language naturel !"
   ]
  },
  {
   "cell_type": "code",
   "execution_count": 11,
   "metadata": {
    "collapsed": true
   },
   "outputs": [],
   "source": [
    "def calculate_points(player):\n",
    "    \n",
    "    points_1 = 0\n",
    "    points_2 = 0\n",
    "    points_3 = 0\n",
    "    points_4 = 0\n",
    "    points_5 = 0\n",
    "    points_6 = 0\n",
    "    \n",
    "    # if athlete estimated as 1st arrived 1st\n",
    "    if player.Athlete1 == results[1]:\n",
    "        points_1 = 10 \n",
    "    # if athlete estimated as 1st arrived 2nd\n",
    "    elif player.Athlete1 == results[2]:\n",
    "        points_1 = 6 \n",
    "    # if athlete estimated as 1st arrived 3rd\n",
    "    elif player.Athlete1 == results[3]:\n",
    "        points_1 = 4 \n",
    "    # if athlete estimated as 1st arrived 4th\n",
    "    elif player.Athlete1 == results[4]:\n",
    "        points_1 = 2 \n",
    "    # if athlete estimated as 1st arrived 5th\n",
    "    elif player.Athlete1 == results[5]:\n",
    "        points_1 = 1 \n",
    "        \n",
    "    # if athlete estimated as 2nd arrived 1st\n",
    "    if player.Athlete2 == results[1]:\n",
    "        points_2 = 6 \n",
    "    # if athlete estimated as 2nd arrived 2nd\n",
    "    elif player.Athlete2 == results[2]:\n",
    "        points_2 = 10 \n",
    "    # ...\n",
    "    elif player.Athlete2 == results[3]:\n",
    "        points_2 = 6 \n",
    "    elif player.Athlete2 == results[4]:\n",
    "        points_2 = 4 \n",
    "    elif player.Athlete2 == results[5]:\n",
    "        points_2 = 2 \n",
    "    elif player.Athlete2 == results[6]:\n",
    "        points_2 = 1 \n",
    " \n",
    "    if player.Athlete3 == results[1]:\n",
    "        points_3 = 4 \n",
    "    elif player.Athlete3 == results[2]:\n",
    "        points_3 = 6 \n",
    "    elif player.Athlete3 == results[3]:\n",
    "        points_3 = 10 \n",
    "    elif player.Athlete3 == results[4]:\n",
    "        points_3 = 6\n",
    "    elif player.Athlete3 == results[5]:\n",
    "        points_3 = 4 \n",
    "    elif player.Athlete3 == results[6]:\n",
    "        points_3 = 2 \n",
    "    elif player.Athlete3 == results[7]:\n",
    "        points_3 = 1 \n",
    "    \n",
    "    if player.Athlete4 == results[1]:\n",
    "        points_4 = 2 \n",
    "    elif player.Athlete4 == results[2]:\n",
    "        points_4 = 4 \n",
    "    elif player.Athlete4 == results[3]:\n",
    "        points_4 = 6 \n",
    "    elif player.Athlete4 == results[4]:\n",
    "        points_4 = 10 \n",
    "    elif player.Athlete4 == results[5]:\n",
    "        points_4 = 6 \n",
    "    elif player.Athlete4 == results[6]:\n",
    "        points_4 = 4 \n",
    "    elif player.Athlete4 == results[7]:\n",
    "        points_4 = 2 \n",
    "    elif player.Athlete4 == results[8]:\n",
    "        points_4 = 1 \n",
    "        \n",
    "    if player.Athlete5 == results[1]:\n",
    "        points_5 = 1 \n",
    "    elif player.Athlete5 == results[2]:\n",
    "        points_5 = 2 \n",
    "    elif player.Athlete5 == results[3]:\n",
    "        points_5 = 4 \n",
    "    elif player.Athlete5 == results[4]:\n",
    "        points_5 = 6\n",
    "    elif player.Athlete5 == results[5]:\n",
    "        points_5 = 10\n",
    "    elif player.Athlete5 == results[6]:\n",
    "        points_5 = 6 \n",
    "    elif player.Athlete5 == results[7]:\n",
    "        points_5 = 4 \n",
    "    elif player.Athlete5 == results[8]:\n",
    "        points_5 = 2 \n",
    "    elif player.Athlete5 == results[9]:\n",
    "        points_5 = 1 \n",
    "\n",
    "    if player.Athlete6 == results[1]:\n",
    "        points_6 = 0 \n",
    "    elif player.Athlete6 == results[2]:\n",
    "        points_6 = 1 \n",
    "    elif player.Athlete6 == results[3]:\n",
    "        points_6 = 2 \n",
    "    elif player.Athlete6 == results[4]:\n",
    "        points_6 = 4 \n",
    "    elif player.Athlete6 == results[5]:\n",
    "        points_6 = 6 \n",
    "    elif player.Athlete6 == results[6]:\n",
    "        points_6 = 10 \n",
    "    elif player.Athlete6 == results[7]:\n",
    "        points_6 = 6 \n",
    "    elif player.Athlete6 == results[8]:\n",
    "        points_6 = 4 \n",
    "    elif player.Athlete6 == results[9]:\n",
    "        points_6 = 2 \n",
    "    elif player.Athlete6 == results[10]:\n",
    "        points_6 = 1 \n",
    "         \n",
    "        \n",
    "    return points_1 + points_2 + points_3 + points_4 + points_5 + points_6\n"
   ]
  },
  {
   "cell_type": "markdown",
   "metadata": {},
   "source": [
    "## Partie 3 : Résultat des pronostiques"
   ]
  },
  {
   "cell_type": "markdown",
   "metadata": {},
   "source": [
    "Dimanche, il faudra recopier les résultats officiels des 10 premiers PRO hommes publiés sur http://eu.ironman.com/triathlon/events/americas/ironman/world-championship/results.aspx?rd=20171014 "
   ]
  },
  {
   "cell_type": "code",
   "execution_count": 12,
   "metadata": {
    "collapsed": true
   },
   "outputs": [],
   "source": [
    "results = {1:'LAN', 2:'SAN', 3:'MCN', 4:'KIE', 5:'CUN', 6:'BOZ', 7:'POT', 8:'NIL', 9:'HOF', 10:'STE'}\n",
    "res = pd.Series(results)"
   ]
  },
  {
   "cell_type": "code",
   "execution_count": 13,
   "metadata": {},
   "outputs": [
    {
     "data": {
      "text/html": [
       "<div>\n",
       "<style>\n",
       "    .dataframe thead tr:only-child th {\n",
       "        text-align: right;\n",
       "    }\n",
       "\n",
       "    .dataframe thead th {\n",
       "        text-align: left;\n",
       "    }\n",
       "\n",
       "    .dataframe tbody tr th {\n",
       "        vertical-align: top;\n",
       "    }\n",
       "</style>\n",
       "<table border=\"1\" class=\"dataframe\">\n",
       "  <thead>\n",
       "    <tr style=\"text-align: right;\">\n",
       "      <th></th>\n",
       "      <th>Player</th>\n",
       "      <th>Athlete1</th>\n",
       "      <th>Athlete2</th>\n",
       "      <th>Athlete3</th>\n",
       "      <th>Athlete4</th>\n",
       "      <th>Athlete5</th>\n",
       "      <th>Athlete6</th>\n",
       "      <th>Datetime</th>\n",
       "      <th>Points</th>\n",
       "    </tr>\n",
       "  </thead>\n",
       "  <tbody>\n",
       "    <tr>\n",
       "      <th>0</th>\n",
       "      <td>Nicolas Christin</td>\n",
       "      <td>LAN</td>\n",
       "      <td>FRO</td>\n",
       "      <td>SAN</td>\n",
       "      <td>KIE</td>\n",
       "      <td>FVL</td>\n",
       "      <td>AMB</td>\n",
       "      <td>2017-10-14 10:27:30</td>\n",
       "      <td>26</td>\n",
       "    </tr>\n",
       "    <tr>\n",
       "      <th>1</th>\n",
       "      <td>sheller</td>\n",
       "      <td>LAN</td>\n",
       "      <td>KIE</td>\n",
       "      <td>SAN</td>\n",
       "      <td>HOF</td>\n",
       "      <td>FVL</td>\n",
       "      <td>POT</td>\n",
       "      <td>2017-10-06 12:08:19</td>\n",
       "      <td>26</td>\n",
       "    </tr>\n",
       "    <tr>\n",
       "      <th>2</th>\n",
       "      <td>ClÃ©ment G</td>\n",
       "      <td>FRO</td>\n",
       "      <td>SAN</td>\n",
       "      <td>FVL</td>\n",
       "      <td>KIE</td>\n",
       "      <td>VIE</td>\n",
       "      <td>POT</td>\n",
       "      <td>2017-10-12 03:25:57</td>\n",
       "      <td>26</td>\n",
       "    </tr>\n",
       "    <tr>\n",
       "      <th>3</th>\n",
       "      <td>ThomasP</td>\n",
       "      <td>FRO</td>\n",
       "      <td>SAN</td>\n",
       "      <td>KIE</td>\n",
       "      <td>VIE</td>\n",
       "      <td>CUN</td>\n",
       "      <td>DON</td>\n",
       "      <td>2017-10-06 02:12:46</td>\n",
       "      <td>26</td>\n",
       "    </tr>\n",
       "    <tr>\n",
       "      <th>4</th>\n",
       "      <td>QUESNOY</td>\n",
       "      <td>FVL</td>\n",
       "      <td>FRO</td>\n",
       "      <td>SAN</td>\n",
       "      <td>KIE</td>\n",
       "      <td>CUN</td>\n",
       "      <td>VIE</td>\n",
       "      <td>2017-10-06 02:58:57</td>\n",
       "      <td>26</td>\n",
       "    </tr>\n",
       "    <tr>\n",
       "      <th>5</th>\n",
       "      <td>lalala</td>\n",
       "      <td>SAN</td>\n",
       "      <td>HOF</td>\n",
       "      <td>KIE</td>\n",
       "      <td>MCN</td>\n",
       "      <td>BOZ</td>\n",
       "      <td>STE</td>\n",
       "      <td>2017-10-06 04:25:01</td>\n",
       "      <td>25</td>\n",
       "    </tr>\n",
       "    <tr>\n",
       "      <th>6</th>\n",
       "      <td>Eric H</td>\n",
       "      <td>FRO</td>\n",
       "      <td>SAN</td>\n",
       "      <td>LAN</td>\n",
       "      <td>KIE</td>\n",
       "      <td>FVL</td>\n",
       "      <td>LLA</td>\n",
       "      <td>2017-10-06 11:39:38</td>\n",
       "      <td>24</td>\n",
       "    </tr>\n",
       "    <tr>\n",
       "      <th>7</th>\n",
       "      <td>Quentin</td>\n",
       "      <td>SAN</td>\n",
       "      <td>FRO</td>\n",
       "      <td>KIE</td>\n",
       "      <td>LAN</td>\n",
       "      <td>CUN</td>\n",
       "      <td>FVL</td>\n",
       "      <td>2017-10-13 04:59:48</td>\n",
       "      <td>24</td>\n",
       "    </tr>\n",
       "    <tr>\n",
       "      <th>8</th>\n",
       "      <td>Clam Simon</td>\n",
       "      <td>LAN</td>\n",
       "      <td>SAN</td>\n",
       "      <td>FVL</td>\n",
       "      <td>FRO</td>\n",
       "      <td>AER</td>\n",
       "      <td>KIE</td>\n",
       "      <td>2017-10-12 15:53:15</td>\n",
       "      <td>24</td>\n",
       "    </tr>\n",
       "    <tr>\n",
       "      <th>9</th>\n",
       "      <td>Arnaud EDUS</td>\n",
       "      <td>FRO</td>\n",
       "      <td>SAN</td>\n",
       "      <td>FVL</td>\n",
       "      <td>KIE</td>\n",
       "      <td>HOF</td>\n",
       "      <td>MCN</td>\n",
       "      <td>2017-10-06 04:31:36</td>\n",
       "      <td>23</td>\n",
       "    </tr>\n",
       "  </tbody>\n",
       "</table>\n",
       "</div>"
      ],
      "text/plain": [
       "             Player Athlete1 Athlete2 Athlete3 Athlete4 Athlete5 Athlete6  \\\n",
       "0  Nicolas Christin      LAN      FRO      SAN      KIE      FVL      AMB   \n",
       "1           sheller      LAN      KIE      SAN      HOF      FVL      POT   \n",
       "2        ClÃ©ment G      FRO      SAN      FVL      KIE      VIE      POT   \n",
       "3           ThomasP      FRO      SAN      KIE      VIE      CUN      DON   \n",
       "4           QUESNOY      FVL      FRO      SAN      KIE      CUN      VIE   \n",
       "5            lalala      SAN      HOF      KIE      MCN      BOZ      STE   \n",
       "6            Eric H      FRO      SAN      LAN      KIE      FVL      LLA   \n",
       "7           Quentin      SAN      FRO      KIE      LAN      CUN      FVL   \n",
       "8        Clam Simon      LAN      SAN      FVL      FRO      AER      KIE   \n",
       "9       Arnaud EDUS      FRO      SAN      FVL      KIE      HOF      MCN   \n",
       "\n",
       "              Datetime  Points  \n",
       "0  2017-10-14 10:27:30      26  \n",
       "1  2017-10-06 12:08:19      26  \n",
       "2  2017-10-12 03:25:57      26  \n",
       "3  2017-10-06 02:12:46      26  \n",
       "4  2017-10-06 02:58:57      26  \n",
       "5  2017-10-06 04:25:01      25  \n",
       "6  2017-10-06 11:39:38      24  \n",
       "7  2017-10-13 04:59:48      24  \n",
       "8  2017-10-12 15:53:15      24  \n",
       "9  2017-10-06 04:31:36      23  "
      ]
     },
     "execution_count": 13,
     "metadata": {},
     "output_type": "execute_result"
    }
   ],
   "source": [
    "# Pour chaque joueur, calcul le nombre de Points issu de son pronostic à l'aide de l'algo calculate_points\n",
    "df['Points'] = df.apply(calculate_points, axis=1)\n",
    "\n",
    "# Ensuite, tri des joueurs par ordre décroissant des Points (i.e. le gagnant sera sur la 1ère ligne)\n",
    "df = df.sort_values(by ='Points', ascending=False)\n",
    "\n",
    "# sombre détail technique, reset de l'index de chaque joueur\n",
    "# pour que l'index affiché corresponde à l'ordre des gagnants.\n",
    "# ... il y aura un décalage de 1 en fait car l'index commence à 0\n",
    "df = df.reset_index(drop=True)\n",
    "\n",
    "# Affichage des 10 meilleurs pronostics\n",
    "df.head(10)"
   ]
  },
  {
   "cell_type": "code",
   "execution_count": 14,
   "metadata": {},
   "outputs": [
    {
     "data": {
      "text/html": [
       "<div>\n",
       "<style>\n",
       "    .dataframe thead tr:only-child th {\n",
       "        text-align: right;\n",
       "    }\n",
       "\n",
       "    .dataframe thead th {\n",
       "        text-align: left;\n",
       "    }\n",
       "\n",
       "    .dataframe tbody tr th {\n",
       "        vertical-align: top;\n",
       "    }\n",
       "</style>\n",
       "<table border=\"1\" class=\"dataframe\">\n",
       "  <thead>\n",
       "    <tr style=\"text-align: right;\">\n",
       "      <th></th>\n",
       "      <th>Player</th>\n",
       "      <th>Athlete1</th>\n",
       "      <th>Athlete2</th>\n",
       "      <th>Athlete3</th>\n",
       "      <th>Athlete4</th>\n",
       "      <th>Athlete5</th>\n",
       "      <th>Athlete6</th>\n",
       "      <th>Datetime</th>\n",
       "      <th>Points</th>\n",
       "    </tr>\n",
       "  </thead>\n",
       "  <tbody>\n",
       "    <tr>\n",
       "      <th>134</th>\n",
       "      <td>TriRating</td>\n",
       "      <td>FRO</td>\n",
       "      <td>KIE</td>\n",
       "      <td>LAN</td>\n",
       "      <td>NIL</td>\n",
       "      <td>ODO</td>\n",
       "      <td>HOF</td>\n",
       "      <td>2017-10-10 15:52:30</td>\n",
       "      <td>11</td>\n",
       "    </tr>\n",
       "  </tbody>\n",
       "</table>\n",
       "</div>"
      ],
      "text/plain": [
       "        Player Athlete1 Athlete2 Athlete3 Athlete4 Athlete5 Athlete6  \\\n",
       "134  TriRating      FRO      KIE      LAN      NIL      ODO      HOF   \n",
       "\n",
       "                Datetime  Points  \n",
       "134  2017-10-10 15:52:30      11  "
      ]
     },
     "execution_count": 14,
     "metadata": {},
     "output_type": "execute_result"
    }
   ],
   "source": [
    "# Affichage du score obtenu par le célèbre 'TriRating' \n",
    "df[df.Player == 'TriRating']"
   ]
  },
  {
   "cell_type": "code",
   "execution_count": 15,
   "metadata": {
    "collapsed": true
   },
   "outputs": [],
   "source": [
    "# Pour la postérité, sauvegardons les résultats complets dans un fichier\n",
    "file2 = \"2017_kona_pronostics_classement.csv\"\n",
    "df.to_csv(file2, sep=';', encoding = \"ISO-8859-1\", index=False)"
   ]
  }
 ],
 "metadata": {
  "kernelspec": {
   "display_name": "Python 3",
   "language": "python",
   "name": "python3"
  },
  "language_info": {
   "codemirror_mode": {
    "name": "ipython",
    "version": 3
   },
   "file_extension": ".py",
   "mimetype": "text/x-python",
   "name": "python",
   "nbconvert_exporter": "python",
   "pygments_lexer": "ipython3",
   "version": "3.6.1"
  }
 },
 "nbformat": 4,
 "nbformat_minor": 2
}

