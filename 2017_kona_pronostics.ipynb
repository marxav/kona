{
 "cells": [
  {
   "cell_type": "code",
   "execution_count": 1,
   "metadata": {
    "collapsed": true
   },
   "outputs": [],
   "source": [
    "import pandas as pd\n",
    "%matplotlib inline"
   ]
  },
  {
   "cell_type": "code",
   "execution_count": 2,
   "metadata": {
    "collapsed": true
   },
   "outputs": [],
   "source": [
    "file = \"2017_kona_pronostics.csv\""
   ]
  },
  {
   "cell_type": "code",
   "execution_count": 3,
   "metadata": {
    "collapsed": true
   },
   "outputs": [],
   "source": [
    "df = pd.read_csv(file, delimiter=';', encoding = \"ISO-8859-1\")"
   ]
  },
  {
   "cell_type": "code",
   "execution_count": 4,
   "metadata": {},
   "outputs": [
    {
     "data": {
      "text/html": [
       "<div>\n",
       "<style>\n",
       "    .dataframe thead tr:only-child th {\n",
       "        text-align: right;\n",
       "    }\n",
       "\n",
       "    .dataframe thead th {\n",
       "        text-align: left;\n",
       "    }\n",
       "\n",
       "    .dataframe tbody tr th {\n",
       "        vertical-align: top;\n",
       "    }\n",
       "</style>\n",
       "<table border=\"1\" class=\"dataframe\">\n",
       "  <thead>\n",
       "    <tr style=\"text-align: right;\">\n",
       "      <th></th>\n",
       "      <th>Player</th>\n",
       "      <th>Athlete1</th>\n",
       "      <th>Athlete2</th>\n",
       "      <th>Athlete3</th>\n",
       "      <th>Athlete4</th>\n",
       "      <th>Athlete5</th>\n",
       "      <th>Athlete6</th>\n",
       "      <th>Datetime</th>\n",
       "    </tr>\n",
       "  </thead>\n",
       "  <tbody>\n",
       "    <tr>\n",
       "      <th>180</th>\n",
       "      <td>Alex</td>\n",
       "      <td>FRO</td>\n",
       "      <td>SAN</td>\n",
       "      <td>STE</td>\n",
       "      <td>DON</td>\n",
       "      <td>KIE</td>\n",
       "      <td>AER</td>\n",
       "      <td>05/10/2017 19:47</td>\n",
       "    </tr>\n",
       "  </tbody>\n",
       "</table>\n",
       "</div>"
      ],
      "text/plain": [
       "    Player Athlete1 Athlete2 Athlete3 Athlete4 Athlete5 Athlete6  \\\n",
       "180   Alex      FRO      SAN      STE      DON      KIE      AER   \n",
       "\n",
       "             Datetime  \n",
       "180  05/10/2017 19:47  "
      ]
     },
     "execution_count": 4,
     "metadata": {},
     "output_type": "execute_result"
    }
   ],
   "source": [
    "# check list line of input file\n",
    "df.tail(1)"
   ]
  },
  {
   "cell_type": "code",
   "execution_count": 5,
   "metadata": {},
   "outputs": [
    {
     "data": {
      "text/plain": [
       "FRO    0.679558\n",
       "SAN    0.132597\n",
       "FVL    0.082873\n",
       "KIE    0.055249\n",
       "LAN    0.022099\n",
       "HOF    0.011050\n",
       "CUN    0.005525\n",
       "DON    0.005525\n",
       "AER    0.005525\n",
       "Name: Athlete1, dtype: float64"
      ]
     },
     "execution_count": 5,
     "metadata": {},
     "output_type": "execute_result"
    }
   ],
   "source": [
    "# pronostiques quant au vainqueur\n",
    "df.Athlete1.value_counts(normalize=True).head(10)"
   ]
  },
  {
   "cell_type": "code",
   "execution_count": 6,
   "metadata": {},
   "outputs": [
    {
     "data": {
      "text/plain": [
       "<matplotlib.axes._subplots.AxesSubplot at 0x966a978>"
      ]
     },
     "execution_count": 6,
     "metadata": {},
     "output_type": "execute_result"
    },
    {
     "data": {
      "image/png": "[encoded data removed]",
      "text/plain": [
       "<matplotlib.figure.Figure at 0x966a080>"
      ]
     },
     "metadata": {},
     "output_type": "display_data"
    }
   ],
   "source": [
    "df.Athlete1.value_counts(normalize=True).head(10).plot(kind='pie')"
   ]
  },
  {
   "cell_type": "code",
   "execution_count": 7,
   "metadata": {},
   "outputs": [
    {
     "data": {
      "text/plain": [
       "SAN    0.287293\n",
       "KIE    0.220994\n",
       "FRO    0.187845\n",
       "FVL    0.143646\n",
       "HOF    0.038674\n",
       "DON    0.027624\n",
       "LAN    0.022099\n",
       "CUN    0.016575\n",
       "MCM    0.016575\n",
       "ODO    0.011050\n",
       "Name: Athlete2, dtype: float64"
      ]
     },
     "execution_count": 7,
     "metadata": {},
     "output_type": "execute_result"
    }
   ],
   "source": [
    "df.Athlete2.value_counts(normalize=True).head(10)"
   ]
  },
  {
   "cell_type": "code",
   "execution_count": 8,
   "metadata": {},
   "outputs": [
    {
     "data": {
      "text/plain": [
       "KIE    0.292818\n",
       "SAN    0.165746\n",
       "FVL    0.160221\n",
       "VIE    0.077348\n",
       "HOF    0.060773\n",
       "FRO    0.060773\n",
       "DON    0.060773\n",
       "LAN    0.027624\n",
       "AER    0.016575\n",
       "ODO    0.016575\n",
       "Name: Athlete3, dtype: float64"
      ]
     },
     "execution_count": 8,
     "metadata": {},
     "output_type": "execute_result"
    }
   ],
   "source": [
    "df.Athlete3.value_counts(normalize=True).head(10)"
   ]
  },
  {
   "cell_type": "code",
   "execution_count": 9,
   "metadata": {},
   "outputs": [
    {
     "data": {
      "text/plain": [
       "KIE    0.209945\n",
       "FVL    0.127072\n",
       "VIE    0.127072\n",
       "SAN    0.104972\n",
       "AER    0.099448\n",
       "HOF    0.060773\n",
       "POT    0.044199\n",
       "DON    0.033149\n",
       "LAN    0.027624\n",
       "ODO    0.022099\n",
       "Name: Athlete4, dtype: float64"
      ]
     },
     "execution_count": 9,
     "metadata": {},
     "output_type": "execute_result"
    }
   ],
   "source": [
    "df.Athlete4.value_counts(normalize=True).head(10)"
   ]
  },
  {
   "cell_type": "code",
   "execution_count": 10,
   "metadata": {},
   "outputs": [
    {
     "data": {
      "text/plain": [
       "VIE     0.121547\n",
       "FVL     0.099448\n",
       "KIE     0.099448\n",
       "DON     0.088398\n",
       "SAN     0.088398\n",
       "AER     0.082873\n",
       "HOF     0.077348\n",
       "LAN     0.055249\n",
       "CHEV    0.033149\n",
       "STE     0.027624\n",
       "Name: Athlete5, dtype: float64"
      ]
     },
     "execution_count": 10,
     "metadata": {},
     "output_type": "execute_result"
    }
   ],
   "source": [
    "df.Athlete5.value_counts(normalize=True).head(10)"
   ]
  },
  {
   "cell_type": "code",
   "execution_count": 11,
   "metadata": {},
   "outputs": [
    {
     "data": {
      "text/plain": [
       "VIE     0.132597\n",
       "DON     0.110497\n",
       "FVL     0.088398\n",
       "HOF     0.071823\n",
       "CHEV    0.071823\n",
       "AER     0.049724\n",
       "ODO     0.044199\n",
       "SAN     0.038674\n",
       "POT     0.038674\n",
       "KIE     0.038674\n",
       "Name: Athlete6, dtype: float64"
      ]
     },
     "execution_count": 11,
     "metadata": {},
     "output_type": "execute_result"
    }
   ],
   "source": [
    "df.Athlete6.value_counts(normalize=True).head(10)"
   ]
  },
  {
   "cell_type": "code",
   "execution_count": null,
   "metadata": {
    "collapsed": true
   },
   "outputs": [],
   "source": []
  },
  {
   "cell_type": "code",
   "execution_count": 12,
   "metadata": {
    "collapsed": true
   },
   "outputs": [],
   "source": [
    "#10 pts par bonne position.\n",
    "#6 pts pour 1 athlète qui termine à 1 place de ton pronostic.\n",
    "#4 pts pour 1 athlète qui termine à 2 places de ton pronostic.\n",
    "#2 pts pour 1 athlète qui termine à 3 places de ton pronostic.\n",
    "#1 pts pour 1 athlète qui termine à 4 places de ton pronostic.\n",
    "def calculate_points(player):\n",
    "    \n",
    "    points_1 = 0\n",
    "    points_2 = 0\n",
    "    points_3 = 0\n",
    "    points_4 = 0\n",
    "    points_5 = 0\n",
    "    points_6 = 0\n",
    "    \n",
    "    # if athlete estimated as 1st arrived 1st\n",
    "    if player.Athlete1 == results[1]:\n",
    "        points_1 = 10 \n",
    "    # if athlete estimated as 1st arrived 2nd\n",
    "    elif player.Athlete1 == results[2]:\n",
    "        points_1 = 6 \n",
    "    # if athlete estimated as 1st arrived 3rd\n",
    "    elif player.Athlete1 == results[3]:\n",
    "        points_1 = 4 \n",
    "    # if athlete estimated as 1st arrived 4th\n",
    "    elif player.Athlete1 == results[4]:\n",
    "        points_1 = 2 \n",
    "    # if athlete estimated as 1st arrived 5th\n",
    "    elif player.Athlete1 == results[5]:\n",
    "        points_1 = 1 \n",
    "        \n",
    "    # if athlete estimated as 2nd arrived 1st\n",
    "    if player.Athlete2 == results[1]:\n",
    "        points_2 = 6 \n",
    "    # if athlete estimated as 2nd arrived 2nd\n",
    "    elif player.Athlete2 == results[2]:\n",
    "        points_2 = 10 \n",
    "    # ...\n",
    "    elif player.Athlete2 == results[3]:\n",
    "        points_2 = 6 \n",
    "    elif player.Athlete2 == results[4]:\n",
    "        points_2 = 4 \n",
    "    elif player.Athlete2 == results[5]:\n",
    "        points_2 = 2 \n",
    "    elif player.Athlete2 == results[6]:\n",
    "        points_2 = 1 \n",
    " \n",
    "    if player.Athlete3 == results[1]:\n",
    "        points_3 = 4 \n",
    "    elif player.Athlete3 == results[2]:\n",
    "        points_3 = 6 \n",
    "    elif player.Athlete3 == results[3]:\n",
    "        points_3 = 10 \n",
    "    elif player.Athlete3 == results[4]:\n",
    "        points_3 = 6\n",
    "    elif player.Athlete3 == results[5]:\n",
    "        points_3 = 4 \n",
    "    elif player.Athlete3 == results[6]:\n",
    "        points_3 = 2 \n",
    "    elif player.Athlete3 == results[7]:\n",
    "        points_3 = 1 \n",
    "    \n",
    "    if player.Athlete4 == results[1]:\n",
    "        points_4 = 2 \n",
    "    elif player.Athlete4 == results[2]:\n",
    "        points_4 = 4 \n",
    "    elif player.Athlete4 == results[3]:\n",
    "        points_4 = 6 \n",
    "    elif player.Athlete4 == results[4]:\n",
    "        points_4 = 10 \n",
    "    elif player.Athlete4 == results[5]:\n",
    "        points_4 = 6 \n",
    "    elif player.Athlete4 == results[6]:\n",
    "        points_4 = 4 \n",
    "    elif player.Athlete4 == results[7]:\n",
    "        points_4 = 2 \n",
    "    elif player.Athlete4 == results[8]:\n",
    "        points_4 = 1 \n",
    "        \n",
    "    if player.Athlete5 == results[1]:\n",
    "        points_5 = 1 \n",
    "    elif player.Athlete5 == results[2]:\n",
    "        points_5 = 2 \n",
    "    elif player.Athlete5 == results[3]:\n",
    "        points_5 = 4 \n",
    "    elif player.Athlete5 == results[4]:\n",
    "        points_5 = 6\n",
    "    elif player.Athlete5 == results[5]:\n",
    "        points_5 = 10\n",
    "    elif player.Athlete5 == results[6]:\n",
    "        points_5 = 6 \n",
    "    elif player.Athlete5 == results[7]:\n",
    "        points_5 = 4 \n",
    "    elif player.Athlete5 == results[8]:\n",
    "        points_5 = 2 \n",
    "    elif player.Athlete5 == results[9]:\n",
    "        points_5 = 1 \n",
    "\n",
    "    if player.Athlete6 == results[1]:\n",
    "        points_6 = 0 \n",
    "    elif player.Athlete6 == results[2]:\n",
    "        points_6 = 1 \n",
    "    elif player.Athlete6 == results[3]:\n",
    "        points_6 = 2 \n",
    "    elif player.Athlete6 == results[4]:\n",
    "        points_6 = 4 \n",
    "    elif player.Athlete6 == results[5]:\n",
    "        points_6 = 6 \n",
    "    elif player.Athlete6 == results[6]:\n",
    "        points_6 = 10 \n",
    "    elif player.Athlete6 == results[7]:\n",
    "        points_6 = 6 \n",
    "    elif player.Athlete6 == results[8]:\n",
    "        points_6 = 4 \n",
    "    elif player.Athlete6 == results[9]:\n",
    "        points_6 = 2 \n",
    "    elif player.Athlete6 == results[10]:\n",
    "        points_6 = 1 \n",
    "         \n",
    "        \n",
    "    return points_1 + points_2 + points_3 + points_4 + points_5 + points_6\n"
   ]
  },
  {
   "cell_type": "code",
   "execution_count": 13,
   "metadata": {},
   "outputs": [
    {
     "data": {
      "text/html": [
       "<div>\n",
       "<style>\n",
       "    .dataframe thead tr:only-child th {\n",
       "        text-align: right;\n",
       "    }\n",
       "\n",
       "    .dataframe thead th {\n",
       "        text-align: left;\n",
       "    }\n",
       "\n",
       "    .dataframe tbody tr th {\n",
       "        vertical-align: top;\n",
       "    }\n",
       "</style>\n",
       "<table border=\"1\" class=\"dataframe\">\n",
       "  <thead>\n",
       "    <tr style=\"text-align: right;\">\n",
       "      <th></th>\n",
       "      <th>Player</th>\n",
       "      <th>Athlete1</th>\n",
       "      <th>Athlete2</th>\n",
       "      <th>Athlete3</th>\n",
       "      <th>Athlete4</th>\n",
       "      <th>Athlete5</th>\n",
       "      <th>Athlete6</th>\n",
       "      <th>Datetime</th>\n",
       "      <th>Points</th>\n",
       "    </tr>\n",
       "  </thead>\n",
       "  <tbody>\n",
       "    <tr>\n",
       "      <th>180</th>\n",
       "      <td>Alex</td>\n",
       "      <td>FRO</td>\n",
       "      <td>SAN</td>\n",
       "      <td>STE</td>\n",
       "      <td>DON</td>\n",
       "      <td>KIE</td>\n",
       "      <td>AER</td>\n",
       "      <td>05/10/2017 19:47</td>\n",
       "      <td>17</td>\n",
       "    </tr>\n",
       "  </tbody>\n",
       "</table>\n",
       "</div>"
      ],
      "text/plain": [
       "    Player Athlete1 Athlete2 Athlete3 Athlete4 Athlete5 Athlete6  \\\n",
       "180   Alex      FRO      SAN      STE      DON      KIE      AER   \n",
       "\n",
       "             Datetime  Points  \n",
       "180  05/10/2017 19:47      17  "
      ]
     },
     "execution_count": 13,
     "metadata": {},
     "output_type": "execute_result"
    }
   ],
   "source": [
    "# 2017 results from http://eu.ironman.com/triathlon/events/americas/ironman/world-championship/results.aspx?rd=20171014 \n",
    "# AT THE MOMENT, WE USE LAST YEAR RESULT AS AN EXAMPLE ; WILL BE UPDATED ON SUNDAY\n",
    "results = {1:'FRO', 2:'KIE', 3:'LAN', 4:'HOF', 5:'BOE', 6:'ODO', 7:'STE', 8:'AER', 9:'RAN', 10:'VANL'}\n",
    "res = pd.Series(results)\n",
    "\n",
    "# add a column containing the obtained points for each gamer\n",
    "df['Points'] = df.apply(calculate_points, axis=1)\n",
    "\n",
    "# check list line\n",
    "df.tail(1)"
   ]
  },
  {
   "cell_type": "code",
   "execution_count": 14,
   "metadata": {},
   "outputs": [
    {
     "data": {
      "text/html": [
       "<div>\n",
       "<style>\n",
       "    .dataframe thead tr:only-child th {\n",
       "        text-align: right;\n",
       "    }\n",
       "\n",
       "    .dataframe thead th {\n",
       "        text-align: left;\n",
       "    }\n",
       "\n",
       "    .dataframe tbody tr th {\n",
       "        vertical-align: top;\n",
       "    }\n",
       "</style>\n",
       "<table border=\"1\" class=\"dataframe\">\n",
       "  <thead>\n",
       "    <tr style=\"text-align: right;\">\n",
       "      <th></th>\n",
       "      <th>Player</th>\n",
       "      <th>Athlete1</th>\n",
       "      <th>Athlete2</th>\n",
       "      <th>Athlete3</th>\n",
       "      <th>Athlete4</th>\n",
       "      <th>Athlete5</th>\n",
       "      <th>Athlete6</th>\n",
       "      <th>Datetime</th>\n",
       "      <th>Points</th>\n",
       "    </tr>\n",
       "  </thead>\n",
       "  <tbody>\n",
       "    <tr>\n",
       "      <th>0</th>\n",
       "      <td>Maxime</td>\n",
       "      <td>FRO</td>\n",
       "      <td>KIE</td>\n",
       "      <td>SAN</td>\n",
       "      <td>LAN</td>\n",
       "      <td>FVL</td>\n",
       "      <td>ODO</td>\n",
       "      <td>06/10/2017 13:57</td>\n",
       "      <td>36</td>\n",
       "    </tr>\n",
       "    <tr>\n",
       "      <th>1</th>\n",
       "      <td>Blackstar</td>\n",
       "      <td>FRO</td>\n",
       "      <td>SAN</td>\n",
       "      <td>KIE</td>\n",
       "      <td>HOF</td>\n",
       "      <td>ODO</td>\n",
       "      <td>AER</td>\n",
       "      <td>06/10/2017 10:17</td>\n",
       "      <td>36</td>\n",
       "    </tr>\n",
       "    <tr>\n",
       "      <th>2</th>\n",
       "      <td>Olivier</td>\n",
       "      <td>SAN</td>\n",
       "      <td>FRO</td>\n",
       "      <td>KIE</td>\n",
       "      <td>HOF</td>\n",
       "      <td>DON</td>\n",
       "      <td>ODO</td>\n",
       "      <td>06/10/2017 05:49</td>\n",
       "      <td>32</td>\n",
       "    </tr>\n",
       "    <tr>\n",
       "      <th>3</th>\n",
       "      <td>Guillaume Belgy</td>\n",
       "      <td>FRO</td>\n",
       "      <td>KIE</td>\n",
       "      <td>FVL</td>\n",
       "      <td>HOF</td>\n",
       "      <td>AER</td>\n",
       "      <td>BUT</td>\n",
       "      <td>06/10/2017 01:12</td>\n",
       "      <td>32</td>\n",
       "    </tr>\n",
       "    <tr>\n",
       "      <th>4</th>\n",
       "      <td>Callebout</td>\n",
       "      <td>FRO</td>\n",
       "      <td>KIE</td>\n",
       "      <td>FVL</td>\n",
       "      <td>HOF</td>\n",
       "      <td>SAN</td>\n",
       "      <td>DON</td>\n",
       "      <td>06/10/2017 02:04</td>\n",
       "      <td>30</td>\n",
       "    </tr>\n",
       "    <tr>\n",
       "      <th>5</th>\n",
       "      <td>Schmetz</td>\n",
       "      <td>FRO</td>\n",
       "      <td>LAN</td>\n",
       "      <td>FVL</td>\n",
       "      <td>KIE</td>\n",
       "      <td>BOZ</td>\n",
       "      <td>ODO</td>\n",
       "      <td>06/10/2017 11:53</td>\n",
       "      <td>30</td>\n",
       "    </tr>\n",
       "    <tr>\n",
       "      <th>6</th>\n",
       "      <td>Numa Agnan</td>\n",
       "      <td>FRO</td>\n",
       "      <td>KIE</td>\n",
       "      <td>FVL</td>\n",
       "      <td>SAN</td>\n",
       "      <td>ODO</td>\n",
       "      <td>HOF</td>\n",
       "      <td>06/10/2017 08:17</td>\n",
       "      <td>30</td>\n",
       "    </tr>\n",
       "    <tr>\n",
       "      <th>7</th>\n",
       "      <td>Theo</td>\n",
       "      <td>FRO</td>\n",
       "      <td>KIE</td>\n",
       "      <td>SAN</td>\n",
       "      <td>HOF</td>\n",
       "      <td>VIE</td>\n",
       "      <td>FROM</td>\n",
       "      <td>08/10/2017 01:40</td>\n",
       "      <td>30</td>\n",
       "    </tr>\n",
       "    <tr>\n",
       "      <th>8</th>\n",
       "      <td>Xavier</td>\n",
       "      <td>FRO</td>\n",
       "      <td>KIE</td>\n",
       "      <td>SAN</td>\n",
       "      <td>HOF</td>\n",
       "      <td>FVL</td>\n",
       "      <td>DEG</td>\n",
       "      <td>06/10/2017 01:32</td>\n",
       "      <td>30</td>\n",
       "    </tr>\n",
       "    <tr>\n",
       "      <th>9</th>\n",
       "      <td>Brendel</td>\n",
       "      <td>FRO</td>\n",
       "      <td>FVL</td>\n",
       "      <td>LAN</td>\n",
       "      <td>HOF</td>\n",
       "      <td>CHEV</td>\n",
       "      <td>DON</td>\n",
       "      <td>06/10/2017 07:39</td>\n",
       "      <td>30</td>\n",
       "    </tr>\n",
       "    <tr>\n",
       "      <th>10</th>\n",
       "      <td>Maro</td>\n",
       "      <td>FRO</td>\n",
       "      <td>KIE</td>\n",
       "      <td>SAN</td>\n",
       "      <td>STE</td>\n",
       "      <td>HOF</td>\n",
       "      <td>CUN</td>\n",
       "      <td>06/10/2017 01:07</td>\n",
       "      <td>28</td>\n",
       "    </tr>\n",
       "    <tr>\n",
       "      <th>11</th>\n",
       "      <td>Matthieu S.</td>\n",
       "      <td>FRO</td>\n",
       "      <td>SAN</td>\n",
       "      <td>KIE</td>\n",
       "      <td>FVL</td>\n",
       "      <td>HOF</td>\n",
       "      <td>STE</td>\n",
       "      <td>06/10/2017 14:18</td>\n",
       "      <td>28</td>\n",
       "    </tr>\n",
       "    <tr>\n",
       "      <th>12</th>\n",
       "      <td>Aerts Corentin</td>\n",
       "      <td>FRO</td>\n",
       "      <td>KIE</td>\n",
       "      <td>HOF</td>\n",
       "      <td>SAN</td>\n",
       "      <td>AER</td>\n",
       "      <td>FVL</td>\n",
       "      <td>06/10/2017 00:20</td>\n",
       "      <td>28</td>\n",
       "    </tr>\n",
       "    <tr>\n",
       "      <th>13</th>\n",
       "      <td>cabrol</td>\n",
       "      <td>FRO</td>\n",
       "      <td>LAN</td>\n",
       "      <td>HOF</td>\n",
       "      <td>KIE</td>\n",
       "      <td>SAN</td>\n",
       "      <td>FVL</td>\n",
       "      <td>06/10/2017 13:48</td>\n",
       "      <td>26</td>\n",
       "    </tr>\n",
       "    <tr>\n",
       "      <th>14</th>\n",
       "      <td>Marbout</td>\n",
       "      <td>FRO</td>\n",
       "      <td>KIE</td>\n",
       "      <td>SAN</td>\n",
       "      <td>FVL</td>\n",
       "      <td>HOF</td>\n",
       "      <td>DON</td>\n",
       "      <td>06/10/2017 07:36</td>\n",
       "      <td>26</td>\n",
       "    </tr>\n",
       "  </tbody>\n",
       "</table>\n",
       "</div>"
      ],
      "text/plain": [
       "             Player Athlete1 Athlete2 Athlete3 Athlete4 Athlete5 Athlete6  \\\n",
       "0            Maxime      FRO      KIE      SAN      LAN      FVL      ODO   \n",
       "1         Blackstar      FRO      SAN      KIE      HOF      ODO      AER   \n",
       "2           Olivier      SAN      FRO      KIE      HOF      DON      ODO   \n",
       "3   Guillaume Belgy      FRO      KIE      FVL      HOF      AER      BUT   \n",
       "4         Callebout      FRO      KIE      FVL      HOF      SAN      DON   \n",
       "5           Schmetz      FRO      LAN      FVL      KIE      BOZ      ODO   \n",
       "6        Numa Agnan      FRO      KIE      FVL      SAN      ODO      HOF   \n",
       "7              Theo      FRO      KIE      SAN      HOF      VIE     FROM   \n",
       "8            Xavier      FRO      KIE      SAN      HOF      FVL      DEG   \n",
       "9           Brendel      FRO      FVL      LAN      HOF     CHEV      DON   \n",
       "10             Maro      FRO      KIE      SAN      STE      HOF      CUN   \n",
       "11      Matthieu S.      FRO      SAN      KIE      FVL      HOF      STE   \n",
       "12   Aerts Corentin      FRO      KIE      HOF      SAN      AER      FVL   \n",
       "13           cabrol      FRO      LAN      HOF      KIE      SAN      FVL   \n",
       "14          Marbout      FRO      KIE      SAN      FVL      HOF      DON   \n",
       "\n",
       "            Datetime  Points  \n",
       "0   06/10/2017 13:57      36  \n",
       "1   06/10/2017 10:17      36  \n",
       "2   06/10/2017 05:49      32  \n",
       "3   06/10/2017 01:12      32  \n",
       "4   06/10/2017 02:04      30  \n",
       "5   06/10/2017 11:53      30  \n",
       "6   06/10/2017 08:17      30  \n",
       "7   08/10/2017 01:40      30  \n",
       "8   06/10/2017 01:32      30  \n",
       "9   06/10/2017 07:39      30  \n",
       "10  06/10/2017 01:07      28  \n",
       "11  06/10/2017 14:18      28  \n",
       "12  06/10/2017 00:20      28  \n",
       "13  06/10/2017 13:48      26  \n",
       "14  06/10/2017 07:36      26  "
      ]
     },
     "execution_count": 14,
     "metadata": {},
     "output_type": "execute_result"
    }
   ],
   "source": [
    "# sort the lines of players by decreasing order of Points (i.e. winner in first line)\n",
    "df = df.sort_values(by ='Points', ascending=False)\n",
    "\n",
    "# reset index of the line so that the index (aka \"first hidden column\") represents the final ranking\n",
    "df = df.reset_index(drop=True)\n",
    "\n",
    "# display the best 15 players (still decreasing order)\n",
    "df.head(15)"
   ]
  },
  {
   "cell_type": "code",
   "execution_count": 15,
   "metadata": {},
   "outputs": [
    {
     "data": {
      "text/html": [
       "<div>\n",
       "<style>\n",
       "    .dataframe thead tr:only-child th {\n",
       "        text-align: right;\n",
       "    }\n",
       "\n",
       "    .dataframe thead th {\n",
       "        text-align: left;\n",
       "    }\n",
       "\n",
       "    .dataframe tbody tr th {\n",
       "        vertical-align: top;\n",
       "    }\n",
       "</style>\n",
       "<table border=\"1\" class=\"dataframe\">\n",
       "  <thead>\n",
       "    <tr style=\"text-align: right;\">\n",
       "      <th></th>\n",
       "      <th>Player</th>\n",
       "      <th>Athlete1</th>\n",
       "      <th>Athlete2</th>\n",
       "      <th>Athlete3</th>\n",
       "      <th>Athlete4</th>\n",
       "      <th>Athlete5</th>\n",
       "      <th>Athlete6</th>\n",
       "      <th>Datetime</th>\n",
       "      <th>Points</th>\n",
       "    </tr>\n",
       "  </thead>\n",
       "  <tbody>\n",
       "  </tbody>\n",
       "</table>\n",
       "</div>"
      ],
      "text/plain": [
       "Empty DataFrame\n",
       "Columns: [Player, Athlete1, Athlete2, Athlete3, Athlete4, Athlete5, Athlete6, Datetime, Points]\n",
       "Index: []"
      ]
     },
     "execution_count": 15,
     "metadata": {},
     "output_type": "execute_result"
    }
   ],
   "source": [
    "# Display the ranking of 'TriRating' prognostic\n",
    "df[df.Player == 'TriRating']\n",
    "# It shows that TriRating was number ..."
   ]
  },
  {
   "cell_type": "code",
   "execution_count": 16,
   "metadata": {},
   "outputs": [
    {
     "data": {
      "text/plain": [
       "181"
      ]
     },
     "execution_count": 16,
     "metadata": {},
     "output_type": "execute_result"
    }
   ],
   "source": [
    "# display the total number of players (same as number of lines in the input file)\n",
    "df.shape[0]"
   ]
  },
  {
   "cell_type": "code",
   "execution_count": 17,
   "metadata": {
    "collapsed": true
   },
   "outputs": [],
   "source": [
    "# save resuts within a CSV file\n",
    "file2 = \"2017_kona_pronostics_classement.csv\"\n",
    "df.to_csv(file2, sep=';', encoding = \"ISO-8859-1\", index=False)"
   ]
  }
 ],
 "metadata": {
  "kernelspec": {
   "display_name": "Python 3",
   "language": "python",
   "name": "python3"
  },
  "language_info": {
   "codemirror_mode": {
    "name": "ipython",
    "version": 3
   },
   "file_extension": ".py",
   "mimetype": "text/x-python",
   "name": "python",
   "nbconvert_exporter": "python",
   "pygments_lexer": "ipython3",
   "version": "3.6.1"
  }
 },
 "nbformat": 4,
 "nbformat_minor": 2
}

